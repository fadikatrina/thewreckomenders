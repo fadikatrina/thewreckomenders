{
 "cells": [
  {
   "cell_type": "code",
   "execution_count": 39,
   "metadata": {},
   "outputs": [],
   "source": [
    "import pandas as pd\n",
    "import numpy as np\n",
    "import matplotlib.pyplot as plt\n",
    "import sklearn\n",
    "from ast import literal_eval\n",
    "\n",
    "from sklearn import metrics\n",
    "from sklearn.neighbors import KNeighborsRegressor\n",
    "from sklearn.svm import SVR\n",
    "from sklearn.model_selection import train_test_split"
   ]
  },
  {
   "cell_type": "markdown",
   "metadata": {},
   "source": [
    "We load in our datasets, consisting of user data and data for the recipes. We will be using the ratings that users gave in combination with the recipe's ingredients, techniques and calories to perform recommendations"
   ]
  },
  {
   "cell_type": "code",
   "execution_count": 40,
   "metadata": {
    "scrolled": true
   },
   "outputs": [
    {
     "name": "stdout",
     "output_type": "stream",
     "text": [
      "62.9% of user have less than 10 reviews\n",
      "39.9% of user have less than 5 reviews\n"
     ]
    }
   ],
   "source": [
    "df_users = pd.read_csv('Data/PP_users.csv')\n",
    "#Note that there are no duplicates\n",
    "df_users.head()\n",
    "\n",
    "# u = user_id, \n",
    "# techniques = techniques used for items  that were interacted with(index is a technique with the number being a counter),\n",
    "# items = item_ids of items that were interacted with, \n",
    "# n_items = number of items reviewed, \n",
    "# ratings = ratings for items reviewed, \n",
    "# n_ratings = number of ratings\n",
    "\n",
    "number_of_users_with_less_than_10_reviews = df_users[df_users[\"n_ratings\"] < 10].shape[0]\n",
    "number_of_users_with_less_than_5_reviews = df_users[df_users[\"n_ratings\"] < 5].shape[0]\n",
    "number_of_users = len(df_users.index)\n",
    "\n",
    "print(str(round((number_of_users_with_less_than_10_reviews / number_of_users) * 100,\n",
    "                1)) + \"% of user have less than 10 reviews\")\n",
    "print(str(round((number_of_users_with_less_than_5_reviews / number_of_users) * 100,\n",
    "                1)) + \"% of user have less than 5 reviews\")\n"
   ]
  },
  {
   "cell_type": "code",
   "execution_count": 41,
   "metadata": {
    "scrolled": false
   },
   "outputs": [
    {
     "data": {
      "text/plain": "       id       i                                        name_tokens  \\\n0  424415      23  [40480, 37229, 2911, 1019, 249, 6878, 6878, 28...   \n1  146223   96900       [40480, 18376, 7056, 246, 1531, 2032, 40481]   \n2  312329  120056     [40480, 21044, 16954, 8294, 556, 10837, 40481]   \n3   74301  168258                       [40480, 10025, 31156, 40481]   \n4   76272  109030  [40480, 17841, 252, 782, 2373, 1641, 2373, 252...   \n\n                                   ingredient_tokens  \\\n0  [[2911, 1019, 249, 6878], [1353], [6953], [153...   \n1  [[17918], [25916], [2507, 6444], [8467, 1179],...   \n2  [[5867, 24176], [1353], [6953], [1301, 11332],...   \n3  [[1270, 1645, 28447], [21601], [27952, 29471, ...   \n4  [[1430, 11434], [1430, 17027], [1615, 23, 695,...   \n\n                                        steps_tokens  \\\n0  [40480, 40482, 21662, 481, 6878, 500, 246, 161...   \n1  [40480, 40482, 729, 2525, 10906, 485, 43, 8393...   \n2  [40480, 40482, 8240, 481, 24176, 296, 1353, 66...   \n3  [40480, 40482, 5539, 21601, 1073, 903, 2324, 4...   \n4  [40480, 40482, 14046, 1430, 11434, 488, 17027,...   \n\n                                          techniques  calorie_level  \\\n0  [0, 0, 0, 0, 0, 0, 0, 0, 0, 1, 0, 0, 0, 0, 0, ...              0   \n1  [1, 0, 0, 0, 0, 0, 0, 0, 0, 1, 0, 0, 0, 0, 0, ...              0   \n2  [0, 0, 0, 0, 1, 0, 0, 0, 0, 0, 0, 1, 0, 0, 0, ...              1   \n3  [1, 0, 0, 0, 0, 0, 0, 0, 0, 0, 0, 0, 0, 0, 0, ...              0   \n4  [0, 0, 0, 0, 0, 0, 0, 0, 0, 1, 0, 0, 0, 0, 0, ...              0   \n\n                                      ingredient_ids  \n0                      [389, 7655, 6270, 1527, 3406]  \n1  [2683, 4969, 800, 5298, 840, 2499, 6632, 7022,...  \n2  [1257, 7655, 6270, 590, 5024, 1119, 4883, 6696...  \n3   [7940, 3609, 7060, 6265, 1170, 6654, 5003, 3561]  \n4                            [3484, 6324, 7594, 243]  ",
      "text/html": "<div>\n<style scoped>\n    .dataframe tbody tr th:only-of-type {\n        vertical-align: middle;\n    }\n\n    .dataframe tbody tr th {\n        vertical-align: top;\n    }\n\n    .dataframe thead th {\n        text-align: right;\n    }\n</style>\n<table border=\"1\" class=\"dataframe\">\n  <thead>\n    <tr style=\"text-align: right;\">\n      <th></th>\n      <th>id</th>\n      <th>i</th>\n      <th>name_tokens</th>\n      <th>ingredient_tokens</th>\n      <th>steps_tokens</th>\n      <th>techniques</th>\n      <th>calorie_level</th>\n      <th>ingredient_ids</th>\n    </tr>\n  </thead>\n  <tbody>\n    <tr>\n      <th>0</th>\n      <td>424415</td>\n      <td>23</td>\n      <td>[40480, 37229, 2911, 1019, 249, 6878, 6878, 28...</td>\n      <td>[[2911, 1019, 249, 6878], [1353], [6953], [153...</td>\n      <td>[40480, 40482, 21662, 481, 6878, 500, 246, 161...</td>\n      <td>[0, 0, 0, 0, 0, 0, 0, 0, 0, 1, 0, 0, 0, 0, 0, ...</td>\n      <td>0</td>\n      <td>[389, 7655, 6270, 1527, 3406]</td>\n    </tr>\n    <tr>\n      <th>1</th>\n      <td>146223</td>\n      <td>96900</td>\n      <td>[40480, 18376, 7056, 246, 1531, 2032, 40481]</td>\n      <td>[[17918], [25916], [2507, 6444], [8467, 1179],...</td>\n      <td>[40480, 40482, 729, 2525, 10906, 485, 43, 8393...</td>\n      <td>[1, 0, 0, 0, 0, 0, 0, 0, 0, 1, 0, 0, 0, 0, 0, ...</td>\n      <td>0</td>\n      <td>[2683, 4969, 800, 5298, 840, 2499, 6632, 7022,...</td>\n    </tr>\n    <tr>\n      <th>2</th>\n      <td>312329</td>\n      <td>120056</td>\n      <td>[40480, 21044, 16954, 8294, 556, 10837, 40481]</td>\n      <td>[[5867, 24176], [1353], [6953], [1301, 11332],...</td>\n      <td>[40480, 40482, 8240, 481, 24176, 296, 1353, 66...</td>\n      <td>[0, 0, 0, 0, 1, 0, 0, 0, 0, 0, 0, 1, 0, 0, 0, ...</td>\n      <td>1</td>\n      <td>[1257, 7655, 6270, 590, 5024, 1119, 4883, 6696...</td>\n    </tr>\n    <tr>\n      <th>3</th>\n      <td>74301</td>\n      <td>168258</td>\n      <td>[40480, 10025, 31156, 40481]</td>\n      <td>[[1270, 1645, 28447], [21601], [27952, 29471, ...</td>\n      <td>[40480, 40482, 5539, 21601, 1073, 903, 2324, 4...</td>\n      <td>[1, 0, 0, 0, 0, 0, 0, 0, 0, 0, 0, 0, 0, 0, 0, ...</td>\n      <td>0</td>\n      <td>[7940, 3609, 7060, 6265, 1170, 6654, 5003, 3561]</td>\n    </tr>\n    <tr>\n      <th>4</th>\n      <td>76272</td>\n      <td>109030</td>\n      <td>[40480, 17841, 252, 782, 2373, 1641, 2373, 252...</td>\n      <td>[[1430, 11434], [1430, 17027], [1615, 23, 695,...</td>\n      <td>[40480, 40482, 14046, 1430, 11434, 488, 17027,...</td>\n      <td>[0, 0, 0, 0, 0, 0, 0, 0, 0, 1, 0, 0, 0, 0, 0, ...</td>\n      <td>0</td>\n      <td>[3484, 6324, 7594, 243]</td>\n    </tr>\n  </tbody>\n</table>\n</div>"
     },
     "execution_count": 41,
     "metadata": {},
     "output_type": "execute_result"
    }
   ],
   "source": [
    "df_recipes = pd.read_csv('Data/PP_recipes.csv')\n",
    "#Note that there are no duplicates\n",
    "df_recipes.head()\n",
    "\n",
    "# id = recipe_id, i = Recipe ID mapped to contiguous integers from 0, \n",
    "# name_tokes = BPE-tokenized recipe name,\n",
    "# ingredient_tokens = BPE-tokenized ingredients list (list of lists), \n",
    "# steps_tokens = BPE-tokenized steps, \n",
    "# techniques = List of techniques used in recipe,\n",
    "# calorie_level = either a 0, 1 or 2 indicating how much calories it contains,\n",
    "# ingredient_ids = the ids of the ingredients used"
   ]
  },
  {
   "cell_type": "code",
   "execution_count": 42,
   "metadata": {},
   "outputs": [
    {
     "data": {
      "text/plain": "   user                                               item  \\\n0     0  [1118, 27680, 32541, 137353, 16428, 28815, 658...   \n1     1  [122140, 77036, 156817, 76957, 68818, 155600, ...   \n2     2  [168054, 87218, 35731, 1, 20475, 9039, 124834,...   \n3     3  [163193, 156352, 102888, 19914, 169438, 55772,...   \n4     4  [72857, 38652, 160427, 55772, 119999, 141777, ...   \n\n                                              rating  \n0  [5.0, 5.0, 5.0, 5.0, 5.0, 5.0, 5.0, 4.0, 4.0, ...  \n1  [5.0, 5.0, 5.0, 5.0, 5.0, 5.0, 5.0, 5.0, 5.0, ...  \n2  [3.0, 4.0, 4.0, 4.0, 4.0, 4.0, 4.0, 4.0, 5.0, ...  \n3  [5.0, 5.0, 5.0, 5.0, 4.0, 4.0, 5.0, 5.0, 5.0, ...  \n4  [5.0, 5.0, 5.0, 5.0, 4.0, 4.0, 5.0, 4.0, 5.0, ...  ",
      "text/html": "<div>\n<style scoped>\n    .dataframe tbody tr th:only-of-type {\n        vertical-align: middle;\n    }\n\n    .dataframe tbody tr th {\n        vertical-align: top;\n    }\n\n    .dataframe thead th {\n        text-align: right;\n    }\n</style>\n<table border=\"1\" class=\"dataframe\">\n  <thead>\n    <tr style=\"text-align: right;\">\n      <th></th>\n      <th>user</th>\n      <th>item</th>\n      <th>rating</th>\n    </tr>\n  </thead>\n  <tbody>\n    <tr>\n      <th>0</th>\n      <td>0</td>\n      <td>[1118, 27680, 32541, 137353, 16428, 28815, 658...</td>\n      <td>[5.0, 5.0, 5.0, 5.0, 5.0, 5.0, 5.0, 4.0, 4.0, ...</td>\n    </tr>\n    <tr>\n      <th>1</th>\n      <td>1</td>\n      <td>[122140, 77036, 156817, 76957, 68818, 155600, ...</td>\n      <td>[5.0, 5.0, 5.0, 5.0, 5.0, 5.0, 5.0, 5.0, 5.0, ...</td>\n    </tr>\n    <tr>\n      <th>2</th>\n      <td>2</td>\n      <td>[168054, 87218, 35731, 1, 20475, 9039, 124834,...</td>\n      <td>[3.0, 4.0, 4.0, 4.0, 4.0, 4.0, 4.0, 4.0, 5.0, ...</td>\n    </tr>\n    <tr>\n      <th>3</th>\n      <td>3</td>\n      <td>[163193, 156352, 102888, 19914, 169438, 55772,...</td>\n      <td>[5.0, 5.0, 5.0, 5.0, 4.0, 4.0, 5.0, 5.0, 5.0, ...</td>\n    </tr>\n    <tr>\n      <th>4</th>\n      <td>4</td>\n      <td>[72857, 38652, 160427, 55772, 119999, 141777, ...</td>\n      <td>[5.0, 5.0, 5.0, 5.0, 4.0, 4.0, 5.0, 4.0, 5.0, ...</td>\n    </tr>\n  </tbody>\n</table>\n</div>"
     },
     "execution_count": 42,
     "metadata": {},
     "output_type": "execute_result"
    }
   ],
   "source": [
    "df_users = pd.read_csv('Data/PP_users.csv')\n",
    "df_users.drop('techniques', axis=1, inplace=True)\n",
    "df_users.drop('n_items', axis=1, inplace=True)\n",
    "df_users.drop('n_ratings', axis=1, inplace=True)\n",
    "\n",
    "df_users = df_users.rename(columns={'u': 'user', 'items': 'item', 'ratings': 'rating'})\n",
    "\n",
    "df_users.head()"
   ]
  },
  {
   "cell_type": "code",
   "execution_count": 43,
   "metadata": {},
   "outputs": [
    {
     "data": {
      "text/plain": "   user    item rating\n0     0    1118    5.0\n1     0   27680    5.0\n2     0   32541    5.0\n3     0  137353    5.0\n4     0   16428    5.0",
      "text/html": "<div>\n<style scoped>\n    .dataframe tbody tr th:only-of-type {\n        vertical-align: middle;\n    }\n\n    .dataframe tbody tr th {\n        vertical-align: top;\n    }\n\n    .dataframe thead th {\n        text-align: right;\n    }\n</style>\n<table border=\"1\" class=\"dataframe\">\n  <thead>\n    <tr style=\"text-align: right;\">\n      <th></th>\n      <th>user</th>\n      <th>item</th>\n      <th>rating</th>\n    </tr>\n  </thead>\n  <tbody>\n    <tr>\n      <th>0</th>\n      <td>0</td>\n      <td>1118</td>\n      <td>5.0</td>\n    </tr>\n    <tr>\n      <th>1</th>\n      <td>0</td>\n      <td>27680</td>\n      <td>5.0</td>\n    </tr>\n    <tr>\n      <th>2</th>\n      <td>0</td>\n      <td>32541</td>\n      <td>5.0</td>\n    </tr>\n    <tr>\n      <th>3</th>\n      <td>0</td>\n      <td>137353</td>\n      <td>5.0</td>\n    </tr>\n    <tr>\n      <th>4</th>\n      <td>0</td>\n      <td>16428</td>\n      <td>5.0</td>\n    </tr>\n  </tbody>\n</table>\n</div>"
     },
     "execution_count": 43,
     "metadata": {},
     "output_type": "execute_result"
    }
   ],
   "source": [
    "# Needed to make the explode function, source: https://stackoverflow.com/questions/63472664/pandas-explode-function-not-working-for-list-of-string-column\n",
    "df_users['rating'] = df_users['rating'].apply(literal_eval)\n",
    "df_users['item'] = df_users['item'].apply(literal_eval)\n",
    "\n",
    "df_users = df_users.explode(['rating', 'item'], ignore_index=True)\n",
    "df_users.head()"
   ]
  },
  {
   "cell_type": "code",
   "execution_count": 44,
   "metadata": {},
   "outputs": [
    {
     "data": {
      "text/plain": "       id                                         techniques  calorie_level  \\\n0  424415  [0, 0, 0, 0, 0, 0, 0, 0, 0, 1, 0, 0, 0, 0, 0, ...              0   \n1  146223  [1, 0, 0, 0, 0, 0, 0, 0, 0, 1, 0, 0, 0, 0, 0, ...              0   \n2  312329  [0, 0, 0, 0, 1, 0, 0, 0, 0, 0, 0, 1, 0, 0, 0, ...              1   \n3   74301  [1, 0, 0, 0, 0, 0, 0, 0, 0, 0, 0, 0, 0, 0, 0, ...              0   \n4   76272  [0, 0, 0, 0, 0, 0, 0, 0, 0, 1, 0, 0, 0, 0, 0, ...              0   \n\n                                      ingredient_ids  \n0                      [389, 7655, 6270, 1527, 3406]  \n1  [2683, 4969, 800, 5298, 840, 2499, 6632, 7022,...  \n2  [1257, 7655, 6270, 590, 5024, 1119, 4883, 6696...  \n3   [7940, 3609, 7060, 6265, 1170, 6654, 5003, 3561]  \n4                            [3484, 6324, 7594, 243]  ",
      "text/html": "<div>\n<style scoped>\n    .dataframe tbody tr th:only-of-type {\n        vertical-align: middle;\n    }\n\n    .dataframe tbody tr th {\n        vertical-align: top;\n    }\n\n    .dataframe thead th {\n        text-align: right;\n    }\n</style>\n<table border=\"1\" class=\"dataframe\">\n  <thead>\n    <tr style=\"text-align: right;\">\n      <th></th>\n      <th>id</th>\n      <th>techniques</th>\n      <th>calorie_level</th>\n      <th>ingredient_ids</th>\n    </tr>\n  </thead>\n  <tbody>\n    <tr>\n      <th>0</th>\n      <td>424415</td>\n      <td>[0, 0, 0, 0, 0, 0, 0, 0, 0, 1, 0, 0, 0, 0, 0, ...</td>\n      <td>0</td>\n      <td>[389, 7655, 6270, 1527, 3406]</td>\n    </tr>\n    <tr>\n      <th>1</th>\n      <td>146223</td>\n      <td>[1, 0, 0, 0, 0, 0, 0, 0, 0, 1, 0, 0, 0, 0, 0, ...</td>\n      <td>0</td>\n      <td>[2683, 4969, 800, 5298, 840, 2499, 6632, 7022,...</td>\n    </tr>\n    <tr>\n      <th>2</th>\n      <td>312329</td>\n      <td>[0, 0, 0, 0, 1, 0, 0, 0, 0, 0, 0, 1, 0, 0, 0, ...</td>\n      <td>1</td>\n      <td>[1257, 7655, 6270, 590, 5024, 1119, 4883, 6696...</td>\n    </tr>\n    <tr>\n      <th>3</th>\n      <td>74301</td>\n      <td>[1, 0, 0, 0, 0, 0, 0, 0, 0, 0, 0, 0, 0, 0, 0, ...</td>\n      <td>0</td>\n      <td>[7940, 3609, 7060, 6265, 1170, 6654, 5003, 3561]</td>\n    </tr>\n    <tr>\n      <th>4</th>\n      <td>76272</td>\n      <td>[0, 0, 0, 0, 0, 0, 0, 0, 0, 1, 0, 0, 0, 0, 0, ...</td>\n      <td>0</td>\n      <td>[3484, 6324, 7594, 243]</td>\n    </tr>\n  </tbody>\n</table>\n</div>"
     },
     "execution_count": 44,
     "metadata": {},
     "output_type": "execute_result"
    }
   ],
   "source": [
    "df_recipes.drop('i', axis=1, inplace=True)\n",
    "df_recipes.drop('name_tokens', axis=1, inplace=True)\n",
    "df_recipes.drop('ingredient_tokens', axis=1, inplace=True)\n",
    "df_recipes.drop('steps_tokens', axis=1, inplace=True)\n",
    "\n",
    "df_recipes.head()"
   ]
  },
  {
   "cell_type": "code",
   "execution_count": 45,
   "metadata": {},
   "outputs": [
    {
     "data": {
      "text/plain": "       id techniques  calorie_level ingredient_ids\n0  424415          0              0            389\n0  424415          0              0           7655\n0  424415          0              0           6270\n0  424415          0              0           1527\n0  424415          0              0           3406",
      "text/html": "<div>\n<style scoped>\n    .dataframe tbody tr th:only-of-type {\n        vertical-align: middle;\n    }\n\n    .dataframe tbody tr th {\n        vertical-align: top;\n    }\n\n    .dataframe thead th {\n        text-align: right;\n    }\n</style>\n<table border=\"1\" class=\"dataframe\">\n  <thead>\n    <tr style=\"text-align: right;\">\n      <th></th>\n      <th>id</th>\n      <th>techniques</th>\n      <th>calorie_level</th>\n      <th>ingredient_ids</th>\n    </tr>\n  </thead>\n  <tbody>\n    <tr>\n      <th>0</th>\n      <td>424415</td>\n      <td>0</td>\n      <td>0</td>\n      <td>389</td>\n    </tr>\n    <tr>\n      <th>0</th>\n      <td>424415</td>\n      <td>0</td>\n      <td>0</td>\n      <td>7655</td>\n    </tr>\n    <tr>\n      <th>0</th>\n      <td>424415</td>\n      <td>0</td>\n      <td>0</td>\n      <td>6270</td>\n    </tr>\n    <tr>\n      <th>0</th>\n      <td>424415</td>\n      <td>0</td>\n      <td>0</td>\n      <td>1527</td>\n    </tr>\n    <tr>\n      <th>0</th>\n      <td>424415</td>\n      <td>0</td>\n      <td>0</td>\n      <td>3406</td>\n    </tr>\n  </tbody>\n</table>\n</div>"
     },
     "execution_count": 45,
     "metadata": {},
     "output_type": "execute_result"
    }
   ],
   "source": [
    "# Needed to make the explode function, source: https://stackoverflow.com/questions/63472664/pandas-explode-function-not-working-for-list-of-string-column\n",
    "df_recipes['techniques'] = df_recipes['techniques'].apply(literal_eval)\n",
    "df_recipes['ingredient_ids'] = df_recipes['ingredient_ids'].apply(literal_eval)\n",
    "\n",
    "df_recipes = df_recipes.explode('techniques')\n",
    "df_recipes = df_recipes.explode('ingredient_ids')\n",
    "df_recipes.head()"
   ]
  },
  {
   "cell_type": "markdown",
   "metadata": {},
   "source": [
    "TODO: use algorithm, verify results"
   ]
  },
  {
   "cell_type": "markdown",
   "metadata": {},
   "source": [
    "## Health Filter"
   ]
  },
  {
   "cell_type": "code",
   "execution_count": 46,
   "metadata": {},
   "outputs": [
    {
     "data": {
      "text/plain": "   id                                      nutrition\n0  38       [170.9, 3.0, 120.0, 1.0, 6.0, 6.0, 12.0]\n1  39  [1110.7, 90.0, 81.0, 15.0, 126.0, 82.0, 28.0]\n2  40       [311.1, 0.0, 308.0, 0.0, 0.0, 0.0, 27.0]\n3  41   [536.1, 36.0, 128.0, 64.0, 58.0, 19.0, 21.0]\n4  43   [437.9, 29.0, 170.0, 11.0, 13.0, 54.0, 19.0]",
      "text/html": "<div>\n<style scoped>\n    .dataframe tbody tr th:only-of-type {\n        vertical-align: middle;\n    }\n\n    .dataframe tbody tr th {\n        vertical-align: top;\n    }\n\n    .dataframe thead th {\n        text-align: right;\n    }\n</style>\n<table border=\"1\" class=\"dataframe\">\n  <thead>\n    <tr style=\"text-align: right;\">\n      <th></th>\n      <th>id</th>\n      <th>nutrition</th>\n    </tr>\n  </thead>\n  <tbody>\n    <tr>\n      <th>0</th>\n      <td>38</td>\n      <td>[170.9, 3.0, 120.0, 1.0, 6.0, 6.0, 12.0]</td>\n    </tr>\n    <tr>\n      <th>1</th>\n      <td>39</td>\n      <td>[1110.7, 90.0, 81.0, 15.0, 126.0, 82.0, 28.0]</td>\n    </tr>\n    <tr>\n      <th>2</th>\n      <td>40</td>\n      <td>[311.1, 0.0, 308.0, 0.0, 0.0, 0.0, 27.0]</td>\n    </tr>\n    <tr>\n      <th>3</th>\n      <td>41</td>\n      <td>[536.1, 36.0, 128.0, 64.0, 58.0, 19.0, 21.0]</td>\n    </tr>\n    <tr>\n      <th>4</th>\n      <td>43</td>\n      <td>[437.9, 29.0, 170.0, 11.0, 13.0, 54.0, 19.0]</td>\n    </tr>\n  </tbody>\n</table>\n</div>"
     },
     "execution_count": 46,
     "metadata": {},
     "output_type": "execute_result"
    }
   ],
   "source": [
    "# Note that this file is made by us to only have to load nutritional info instead of a giant csv file\n",
    "nutrition_data = pd.read_csv('Data/nutrition.csv', sep=';')\n",
    "nutrition_data.head()"
   ]
  },
  {
   "cell_type": "code",
   "execution_count": 47,
   "metadata": {},
   "outputs": [
    {
     "name": "stdout",
     "output_type": "stream",
     "text": [
      "[53586, 84733, 93179, 141621, 159337]\n"
     ]
    }
   ],
   "source": [
    "# This functions returns the recipes \n",
    "# Note: limits takes max sugar amount, max sodium, min protein amount, max saturated_fat\n",
    "def ApplyHealthFilter(recipe_ids, limits=[.15, .35, .10, .25], debug_prints=False):\n",
    "    healthy_recipes = []\n",
    "\n",
    "    # Get the nutritional information for the relevant recipes\n",
    "    recipes = nutrition_data.loc[nutrition_data['id'].isin(recipe_ids)]\n",
    "\n",
    "    for index, recipe in recipes.iterrows():\n",
    "        # Nutrition information in calories, total fat, sugar, sodium, protein, saturated fat, carbohydrates \n",
    "        nutrition_values = recipe['nutrition']\n",
    "        # convert string version of array into a proper array\n",
    "        nutrition_values = literal_eval(nutrition_values)\n",
    "\n",
    "        sugar = nutrition_values[2]\n",
    "        sodium = nutrition_values[3]\n",
    "        protein = nutrition_values[4]\n",
    "        saturated_fat = nutrition_values[5]\n",
    "\n",
    "        # Since the nutritional info is in absolute numbers instead of per 100 grams, we'll normalize\n",
    "        normalization_factor = sum(nutrition_values[1:])\n",
    "        normalization_factor = max(normalization_factor, 0.01)\n",
    "\n",
    "        sugar /= normalization_factor\n",
    "        sodium /= normalization_factor\n",
    "        protein /= normalization_factor\n",
    "        saturated_fat /= normalization_factor\n",
    "\n",
    "        if sugar < limits[0] and sodium < limits[1] and protein > limits[2] and saturated_fat < limits[3]:\n",
    "            healthy_recipes.append(recipe['id'])\n",
    "\n",
    "            if debug_prints:\n",
    "                print(\"Healthy: \", index)\n",
    "\n",
    "        else:\n",
    "            if debug_prints:\n",
    "                print(\"Unhealthy: \", index, sugar, sodium, protein, saturated_fat)\n",
    "\n",
    "    return healthy_recipes\n",
    "\n",
    "\n",
    "df_random = df_users.sample(n=20)\n",
    "recipe_ids = df_random['item']\n",
    "# limits = [.15, .35, .10, .25]\n",
    "\n",
    "healhty_recipes = ApplyHealthFilter(recipe_ids)\n",
    "print(healhty_recipes)"
   ]
  },
  {
   "cell_type": "markdown",
   "metadata": {
    "pycharm": {
     "name": "#%% md\n"
    }
   },
   "source": [
    "## 1. Individual Recommendations"
   ]
  },
  {
   "cell_type": "code",
   "execution_count": 48,
   "metadata": {},
   "outputs": [],
   "source": [
    "df_random = df_users.sample(n=10000)"
   ]
  },
  {
   "cell_type": "code",
   "execution_count": 49,
   "metadata": {
    "pycharm": {
     "name": "#%%\n"
    },
    "scrolled": false
   },
   "outputs": [
    {
     "name": "stdout",
     "output_type": "stream",
     "text": [
      "         user    item rating\n",
      "0           0    1118    5.0\n",
      "1           0   27680    5.0\n",
      "2           0   32541    5.0\n",
      "3           0  137353    5.0\n",
      "4           0   16428    5.0\n",
      "...       ...     ...    ...\n",
      "698896  25073  172034    5.0\n",
      "698897  25074  157808    5.0\n",
      "698898  25074  159896    5.0\n",
      "698899  25075  166686    4.0\n",
      "698900  25075  157084    4.0\n",
      "\n",
      "[698901 rows x 3 columns]\n",
      "            id techniques  calorie_level ingredient_ids\n",
      "0       424415          0              0            389\n",
      "0       424415          0              0           7655\n",
      "0       424415          0              0           6270\n",
      "0       424415          0              0           1527\n",
      "0       424415          0              0           3406\n",
      "...        ...        ...            ...            ...\n",
      "178264  263840          0              0            335\n",
      "178264  263840          0              0           1563\n",
      "178264  263840          0              0           1511\n",
      "178264  263840          0              0           3248\n",
      "178264  263840          0              0           2499\n",
      "\n",
      "[93117376 rows x 4 columns]\n",
      "[5.0 5.0 5.0 ... 4.666666666666667 5.0 4.0]\n",
      "353574    4.0\n",
      "679735    5.0\n",
      "257373    5.0\n",
      "653410    5.0\n",
      "477064    4.0\n",
      "         ... \n",
      "203234    5.0\n",
      "362601    3.0\n",
      "550399    5.0\n",
      "600579    4.0\n",
      "222121    5.0\n",
      "Name: rating, Length: 3300, dtype: object\n"
     ]
    },
    {
     "ename": "ValueError",
     "evalue": "Classification metrics can't handle a mix of multiclass and unknown targets",
     "output_type": "error",
     "traceback": [
      "\u001B[1;31m---------------------------------------------------------------------------\u001B[0m",
      "\u001B[1;31mValueError\u001B[0m                                Traceback (most recent call last)",
      "\u001B[1;32m~\\AppData\\Local\\Temp/ipykernel_7288/1731792807.py\u001B[0m in \u001B[0;36m<module>\u001B[1;34m\u001B[0m\n\u001B[0;32m     26\u001B[0m \u001B[1;33m\u001B[0m\u001B[0m\n\u001B[0;32m     27\u001B[0m \u001B[1;31m# TODO solve\u001B[0m\u001B[1;33m\u001B[0m\u001B[1;33m\u001B[0m\u001B[1;33m\u001B[0m\u001B[0m\n\u001B[1;32m---> 28\u001B[1;33m \u001B[0mprint\u001B[0m\u001B[1;33m(\u001B[0m\u001B[1;34m'Accuracy on training data ='\u001B[0m\u001B[1;33m,\u001B[0m \u001B[0mmetrics\u001B[0m\u001B[1;33m.\u001B[0m\u001B[0maccuracy_score\u001B[0m\u001B[1;33m(\u001B[0m\u001B[0mnp\u001B[0m\u001B[1;33m.\u001B[0m\u001B[0marray\u001B[0m\u001B[1;33m(\u001B[0m\u001B[0my_train\u001B[0m\u001B[1;33m.\u001B[0m\u001B[0mto_list\u001B[0m\u001B[1;33m(\u001B[0m\u001B[1;33m)\u001B[0m\u001B[1;33m)\u001B[0m\u001B[1;33m,\u001B[0m \u001B[0my_pred_train\u001B[0m\u001B[1;33m)\u001B[0m\u001B[1;33m)\u001B[0m\u001B[1;33m\u001B[0m\u001B[1;33m\u001B[0m\u001B[0m\n\u001B[0m\u001B[0;32m     29\u001B[0m \u001B[0mprint\u001B[0m\u001B[1;33m(\u001B[0m\u001B[1;34m'Accuracy on testing data ='\u001B[0m\u001B[1;33m,\u001B[0m \u001B[0mmetrics\u001B[0m\u001B[1;33m.\u001B[0m\u001B[0maccuracy_score\u001B[0m\u001B[1;33m(\u001B[0m\u001B[0mnp\u001B[0m\u001B[1;33m.\u001B[0m\u001B[0marray\u001B[0m\u001B[1;33m(\u001B[0m\u001B[0my_test\u001B[0m\u001B[1;33m.\u001B[0m\u001B[0mto_list\u001B[0m\u001B[1;33m(\u001B[0m\u001B[1;33m)\u001B[0m\u001B[1;33m)\u001B[0m\u001B[1;33m,\u001B[0m \u001B[0my_pred_test\u001B[0m\u001B[1;33m)\u001B[0m\u001B[1;33m)\u001B[0m\u001B[1;33m\u001B[0m\u001B[1;33m\u001B[0m\u001B[0m\n\u001B[0;32m     30\u001B[0m \u001B[0mprint\u001B[0m\u001B[1;33m(\u001B[0m\u001B[1;34m''\u001B[0m\u001B[1;33m)\u001B[0m\u001B[1;33m\u001B[0m\u001B[1;33m\u001B[0m\u001B[0m\n",
      "\u001B[1;32m~\\AppData\\Local\\Programs\\Python\\Python38\\lib\\site-packages\\sklearn\\metrics\\_classification.py\u001B[0m in \u001B[0;36maccuracy_score\u001B[1;34m(y_true, y_pred, normalize, sample_weight)\u001B[0m\n\u001B[0;32m    203\u001B[0m \u001B[1;33m\u001B[0m\u001B[0m\n\u001B[0;32m    204\u001B[0m     \u001B[1;31m# Compute accuracy for each possible representation\u001B[0m\u001B[1;33m\u001B[0m\u001B[1;33m\u001B[0m\u001B[1;33m\u001B[0m\u001B[0m\n\u001B[1;32m--> 205\u001B[1;33m     \u001B[0my_type\u001B[0m\u001B[1;33m,\u001B[0m \u001B[0my_true\u001B[0m\u001B[1;33m,\u001B[0m \u001B[0my_pred\u001B[0m \u001B[1;33m=\u001B[0m \u001B[0m_check_targets\u001B[0m\u001B[1;33m(\u001B[0m\u001B[0my_true\u001B[0m\u001B[1;33m,\u001B[0m \u001B[0my_pred\u001B[0m\u001B[1;33m)\u001B[0m\u001B[1;33m\u001B[0m\u001B[1;33m\u001B[0m\u001B[0m\n\u001B[0m\u001B[0;32m    206\u001B[0m     \u001B[0mcheck_consistent_length\u001B[0m\u001B[1;33m(\u001B[0m\u001B[0my_true\u001B[0m\u001B[1;33m,\u001B[0m \u001B[0my_pred\u001B[0m\u001B[1;33m,\u001B[0m \u001B[0msample_weight\u001B[0m\u001B[1;33m)\u001B[0m\u001B[1;33m\u001B[0m\u001B[1;33m\u001B[0m\u001B[0m\n\u001B[0;32m    207\u001B[0m     \u001B[1;32mif\u001B[0m \u001B[0my_type\u001B[0m\u001B[1;33m.\u001B[0m\u001B[0mstartswith\u001B[0m\u001B[1;33m(\u001B[0m\u001B[1;34m\"multilabel\"\u001B[0m\u001B[1;33m)\u001B[0m\u001B[1;33m:\u001B[0m\u001B[1;33m\u001B[0m\u001B[1;33m\u001B[0m\u001B[0m\n",
      "\u001B[1;32m~\\AppData\\Local\\Programs\\Python\\Python38\\lib\\site-packages\\sklearn\\metrics\\_classification.py\u001B[0m in \u001B[0;36m_check_targets\u001B[1;34m(y_true, y_pred)\u001B[0m\n\u001B[0;32m     91\u001B[0m \u001B[1;33m\u001B[0m\u001B[0m\n\u001B[0;32m     92\u001B[0m     \u001B[1;32mif\u001B[0m \u001B[0mlen\u001B[0m\u001B[1;33m(\u001B[0m\u001B[0my_type\u001B[0m\u001B[1;33m)\u001B[0m \u001B[1;33m>\u001B[0m \u001B[1;36m1\u001B[0m\u001B[1;33m:\u001B[0m\u001B[1;33m\u001B[0m\u001B[1;33m\u001B[0m\u001B[0m\n\u001B[1;32m---> 93\u001B[1;33m         raise ValueError(\n\u001B[0m\u001B[0;32m     94\u001B[0m             \"Classification metrics can't handle a mix of {0} and {1} targets\".format(\n\u001B[0;32m     95\u001B[0m                 \u001B[0mtype_true\u001B[0m\u001B[1;33m,\u001B[0m \u001B[0mtype_pred\u001B[0m\u001B[1;33m\u001B[0m\u001B[1;33m\u001B[0m\u001B[0m\n",
      "\u001B[1;31mValueError\u001B[0m: Classification metrics can't handle a mix of multiclass and unknown targets"
     ]
    }
   ],
   "source": [
    "print(df_users)\n",
    "print(df_recipes)\n",
    "\n",
    "X = df_random.drop('rating', axis=1)  # training data\n",
    "y = df_random['rating']  # target values\n",
    "# TODO take into account df_recipes\n",
    "\n",
    "X_train, X_test, y_train, y_test = train_test_split(X, y, test_size=0.33)  # 67% training, 33% testing\n",
    "\n",
    "knn = KNeighborsRegressor(n_neighbors=3)\n",
    "knn.fit(X_train, y_train)\n",
    "\n",
    "y_pred_train = knn.predict(X_train)  # y_pred_train predicts X_train\n",
    "y_pred_test = knn.predict(X_test)\n",
    "\n",
    "#y_pred_train = np.rint(y_pred_train)\n",
    "#y_pred_test = np.rint(y_pred_test)\n",
    "\n",
    "#print(X_train)\n",
    "#print((y_pred_train))\n",
    "#print((np.array(y_train.to_list())))\n",
    "\n",
    "# TODO compare expected outputs with actual outputs\n",
    "print(y_pred_test)  # why float value ??\n",
    "print(y_test)\n",
    "\n",
    "# TODO solve\n",
    "print('Accuracy on training data =', metrics.accuracy_score(np.array(y_train.to_list()), y_pred_train))\n",
    "print('Accuracy on testing data =', metrics.accuracy_score(np.array(y_test.to_list()), y_pred_test))\n",
    "print('')\n",
    "print(metrics.classification_report(np.array(y_test.to_list()), y_pred_test))"
   ]
  },
  {
   "cell_type": "code",
   "execution_count": null,
   "metadata": {
    "scrolled": true
   },
   "outputs": [],
   "source": [
    "df_users['rating'].value_counts()"
   ]
  },
  {
   "cell_type": "markdown",
   "metadata": {
    "pycharm": {
     "name": "#%% md\n"
    }
   },
   "source": []
  },
  {
   "cell_type": "code",
   "execution_count": 50,
   "outputs": [
    {
     "data": {
      "text/plain": "                                         name      id  minutes  \\\n0  arriba   baked winter squash mexican style  137739       55   \n1            a bit different  breakfast pizza   31490       30   \n2                   all in the kitchen  chili  112140      130   \n3                          alouette  potatoes   59389       45   \n4          amish  tomato ketchup  for canning   44061      190   \n\n   contributor_id   submitted  \\\n0           47892  2005-09-16   \n1           26278  2002-06-17   \n2          196586  2005-02-25   \n3           68585  2003-04-14   \n4           41706  2002-10-25   \n\n                                                tags  \\\n0  ['60-minutes-or-less', 'time-to-make', 'course...   \n1  ['30-minutes-or-less', 'time-to-make', 'course...   \n2  ['time-to-make', 'course', 'preparation', 'mai...   \n3  ['60-minutes-or-less', 'time-to-make', 'course...   \n4  ['weeknight', 'time-to-make', 'course', 'main-...   \n\n                                    nutrition  n_steps  \\\n0       [51.5, 0.0, 13.0, 0.0, 2.0, 0.0, 4.0]       11   \n1   [173.4, 18.0, 0.0, 17.0, 22.0, 35.0, 1.0]        9   \n2  [269.8, 22.0, 32.0, 48.0, 39.0, 27.0, 5.0]        6   \n3   [368.1, 17.0, 10.0, 2.0, 14.0, 8.0, 20.0]       11   \n4   [352.9, 1.0, 337.0, 23.0, 3.0, 0.0, 28.0]        5   \n\n                                               steps  \\\n0  ['make a choice and proceed with recipe', 'dep...   \n1  ['preheat oven to 425 degrees f', 'press dough...   \n2  ['brown ground beef in large pot', 'add choppe...   \n3  ['place potatoes in a large pot of lightly sal...   \n4  ['mix all ingredients& boil for 2 1 / 2 hours ...   \n\n                                         description  \\\n0  autumn is my favorite time of year to cook! th...   \n1  this recipe calls for the crust to be prebaked...   \n2  this modified version of 'mom's' chili was a h...   \n3  this is a super easy, great tasting, make ahea...   \n4  my dh's amish mother raised him on this recipe...   \n\n                                         ingredients  n_ingredients  \n0  ['winter squash', 'mexican seasoning', 'mixed ...              7  \n1  ['prepared pizza crust', 'sausage patty', 'egg...              6  \n2  ['ground beef', 'yellow onions', 'diced tomato...             13  \n3  ['spreadable cheese with garlic and herbs', 'n...             11  \n4  ['tomato juice', 'apple cider vinegar', 'sugar...              8  ",
      "text/html": "<div>\n<style scoped>\n    .dataframe tbody tr th:only-of-type {\n        vertical-align: middle;\n    }\n\n    .dataframe tbody tr th {\n        vertical-align: top;\n    }\n\n    .dataframe thead th {\n        text-align: right;\n    }\n</style>\n<table border=\"1\" class=\"dataframe\">\n  <thead>\n    <tr style=\"text-align: right;\">\n      <th></th>\n      <th>name</th>\n      <th>id</th>\n      <th>minutes</th>\n      <th>contributor_id</th>\n      <th>submitted</th>\n      <th>tags</th>\n      <th>nutrition</th>\n      <th>n_steps</th>\n      <th>steps</th>\n      <th>description</th>\n      <th>ingredients</th>\n      <th>n_ingredients</th>\n    </tr>\n  </thead>\n  <tbody>\n    <tr>\n      <th>0</th>\n      <td>arriba   baked winter squash mexican style</td>\n      <td>137739</td>\n      <td>55</td>\n      <td>47892</td>\n      <td>2005-09-16</td>\n      <td>['60-minutes-or-less', 'time-to-make', 'course...</td>\n      <td>[51.5, 0.0, 13.0, 0.0, 2.0, 0.0, 4.0]</td>\n      <td>11</td>\n      <td>['make a choice and proceed with recipe', 'dep...</td>\n      <td>autumn is my favorite time of year to cook! th...</td>\n      <td>['winter squash', 'mexican seasoning', 'mixed ...</td>\n      <td>7</td>\n    </tr>\n    <tr>\n      <th>1</th>\n      <td>a bit different  breakfast pizza</td>\n      <td>31490</td>\n      <td>30</td>\n      <td>26278</td>\n      <td>2002-06-17</td>\n      <td>['30-minutes-or-less', 'time-to-make', 'course...</td>\n      <td>[173.4, 18.0, 0.0, 17.0, 22.0, 35.0, 1.0]</td>\n      <td>9</td>\n      <td>['preheat oven to 425 degrees f', 'press dough...</td>\n      <td>this recipe calls for the crust to be prebaked...</td>\n      <td>['prepared pizza crust', 'sausage patty', 'egg...</td>\n      <td>6</td>\n    </tr>\n    <tr>\n      <th>2</th>\n      <td>all in the kitchen  chili</td>\n      <td>112140</td>\n      <td>130</td>\n      <td>196586</td>\n      <td>2005-02-25</td>\n      <td>['time-to-make', 'course', 'preparation', 'mai...</td>\n      <td>[269.8, 22.0, 32.0, 48.0, 39.0, 27.0, 5.0]</td>\n      <td>6</td>\n      <td>['brown ground beef in large pot', 'add choppe...</td>\n      <td>this modified version of 'mom's' chili was a h...</td>\n      <td>['ground beef', 'yellow onions', 'diced tomato...</td>\n      <td>13</td>\n    </tr>\n    <tr>\n      <th>3</th>\n      <td>alouette  potatoes</td>\n      <td>59389</td>\n      <td>45</td>\n      <td>68585</td>\n      <td>2003-04-14</td>\n      <td>['60-minutes-or-less', 'time-to-make', 'course...</td>\n      <td>[368.1, 17.0, 10.0, 2.0, 14.0, 8.0, 20.0]</td>\n      <td>11</td>\n      <td>['place potatoes in a large pot of lightly sal...</td>\n      <td>this is a super easy, great tasting, make ahea...</td>\n      <td>['spreadable cheese with garlic and herbs', 'n...</td>\n      <td>11</td>\n    </tr>\n    <tr>\n      <th>4</th>\n      <td>amish  tomato ketchup  for canning</td>\n      <td>44061</td>\n      <td>190</td>\n      <td>41706</td>\n      <td>2002-10-25</td>\n      <td>['weeknight', 'time-to-make', 'course', 'main-...</td>\n      <td>[352.9, 1.0, 337.0, 23.0, 3.0, 0.0, 28.0]</td>\n      <td>5</td>\n      <td>['mix all ingredients&amp; boil for 2 1 / 2 hours ...</td>\n      <td>my dh's amish mother raised him on this recipe...</td>\n      <td>['tomato juice', 'apple cider vinegar', 'sugar...</td>\n      <td>8</td>\n    </tr>\n  </tbody>\n</table>\n</div>"
     },
     "execution_count": 50,
     "metadata": {},
     "output_type": "execute_result"
    }
   ],
   "source": [
    "df_recipes_full = pd.read_csv('Data/RAW_recipes.csv')\n",
    "#Note that there are no duplicates\n",
    "df_recipes_full.head()"
   ],
   "metadata": {
    "collapsed": false,
    "pycharm": {
     "name": "#%%\n"
    }
   }
  },
  {
   "cell_type": "code",
   "execution_count": 51,
   "outputs": [
    {
     "data": {
      "text/plain": "                                         name    item  n_steps  n_ingredients\n0  arriba   baked winter squash mexican style  137739       11              7\n1            a bit different  breakfast pizza   31490        9              6\n2                   all in the kitchen  chili  112140        6             13\n3                          alouette  potatoes   59389       11             11\n4          amish  tomato ketchup  for canning   44061        5              8",
      "text/html": "<div>\n<style scoped>\n    .dataframe tbody tr th:only-of-type {\n        vertical-align: middle;\n    }\n\n    .dataframe tbody tr th {\n        vertical-align: top;\n    }\n\n    .dataframe thead th {\n        text-align: right;\n    }\n</style>\n<table border=\"1\" class=\"dataframe\">\n  <thead>\n    <tr style=\"text-align: right;\">\n      <th></th>\n      <th>name</th>\n      <th>item</th>\n      <th>n_steps</th>\n      <th>n_ingredients</th>\n    </tr>\n  </thead>\n  <tbody>\n    <tr>\n      <th>0</th>\n      <td>arriba   baked winter squash mexican style</td>\n      <td>137739</td>\n      <td>11</td>\n      <td>7</td>\n    </tr>\n    <tr>\n      <th>1</th>\n      <td>a bit different  breakfast pizza</td>\n      <td>31490</td>\n      <td>9</td>\n      <td>6</td>\n    </tr>\n    <tr>\n      <th>2</th>\n      <td>all in the kitchen  chili</td>\n      <td>112140</td>\n      <td>6</td>\n      <td>13</td>\n    </tr>\n    <tr>\n      <th>3</th>\n      <td>alouette  potatoes</td>\n      <td>59389</td>\n      <td>11</td>\n      <td>11</td>\n    </tr>\n    <tr>\n      <th>4</th>\n      <td>amish  tomato ketchup  for canning</td>\n      <td>44061</td>\n      <td>5</td>\n      <td>8</td>\n    </tr>\n  </tbody>\n</table>\n</div>"
     },
     "execution_count": 51,
     "metadata": {},
     "output_type": "execute_result"
    }
   ],
   "source": [
    "df_recipes_full.drop('minutes', axis=1, inplace=True)\n",
    "df_recipes_full.drop('contributor_id', axis=1, inplace=True)\n",
    "df_recipes_full.drop('submitted', axis=1, inplace=True)\n",
    "df_recipes_full.drop('tags', axis=1, inplace=True)\n",
    "df_recipes_full.drop('nutrition', axis=1, inplace=True)\n",
    "df_recipes_full.drop('steps', axis=1, inplace=True)\n",
    "df_recipes_full.drop('ingredients', axis=1, inplace=True)\n",
    "df_recipes_full.drop('description', axis=1, inplace=True)\n",
    "\n",
    "df_recipes_full = df_recipes_full.rename(columns={'id': 'item'})\n",
    "\n",
    "df_recipes_full.head()"
   ],
   "metadata": {
    "collapsed": false,
    "pycharm": {
     "name": "#%%\n"
    }
   }
  },
  {
   "cell_type": "code",
   "execution_count": 52,
   "metadata": {
    "pycharm": {
     "name": "#%%\n"
    }
   },
   "outputs": [
    {
     "name": "stdout",
     "output_type": "stream",
     "text": [
      "[1467, 1317, 7098, 1544, 7438, 2178, 1668, 1610, 7095, 4849]\n"
     ]
    }
   ],
   "source": [
    "users_ratings = df_users.groupby(['user']).count()  # count the ratings for each user\n",
    "selected = users_ratings['rating'] > 30  # keep only 30 + ratings\n",
    "selected_users = users_ratings.loc[selected]\n",
    "random_selected = selected_users.sample(n=10)\n",
    "\n",
    "select_column_df = random_selected.reset_index()[\n",
    "    'user']  # reset_index() create a new index, and the userId became a column. Then, we can filter using the column name\n",
    "group_users = list(\n",
    "    select_column_df)  # iloc select by index, since our dataframe only has one row we read it from the index 0\n",
    "print(group_users)"
   ]
  },
  {
   "cell_type": "code",
   "execution_count": 53,
   "metadata": {
    "pycharm": {
     "name": "#%%\n"
    }
   },
   "outputs": [
    {
     "name": "stdout",
     "output_type": "stream",
     "text": [
      "Total amount of recipes, 178265\n",
      "Recipes that have at least 20 ratings, 2456\n",
      "Recipes that have been rated by the currently selected group, 1279\n",
      "New recipes that the group didnt try yet, 2167\n"
     ]
    }
   ],
   "source": [
    "group_ratings = df_users.loc[df_users['user'].isin(group_users)]\n",
    "total_recipes = set(df_recipes.index.tolist())\n",
    "num_ratings_df = df_users.groupby(['item']).count()\n",
    "considered_recipes = set(num_ratings_df.loc[num_ratings_df['user'] >= 30].reset_index()['item'])\n",
    "\n",
    "group_seen_recipes = set(group_ratings['item'].tolist())\n",
    "group_unseen_recipes = considered_recipes - group_seen_recipes\n",
    "\n",
    "print('Total amount of recipes,', len(total_recipes))\n",
    "print('Recipes that have at least 20 ratings,', len(considered_recipes))\n",
    "print('Recipes that have been rated by the currently selected group,', len(group_seen_recipes))\n",
    "print('New recipes that the group didnt try yet,', len(group_unseen_recipes))"
   ]
  },
  {
   "cell_type": "code",
   "execution_count": 54,
   "metadata": {
    "pycharm": {
     "name": "#%%\n"
    }
   },
   "outputs": [
    {
     "data": {
      "text/plain": "     user    item  predicted_rating\n5    1467  131089          4.577501\n20   1467  106555          4.459102\n31   1467  155731          4.144755\n58   1467  147642          4.237022\n85   1467     284          4.363167\n107  1467  172390          4.209210\n126  1467  106910          4.002193\n175  1467  131599          3.736137\n210  1467   74368          4.313530\n237  1467  139982          3.516179",
      "text/html": "<div>\n<style scoped>\n    .dataframe tbody tr th:only-of-type {\n        vertical-align: middle;\n    }\n\n    .dataframe tbody tr th {\n        vertical-align: top;\n    }\n\n    .dataframe thead th {\n        text-align: right;\n    }\n</style>\n<table border=\"1\" class=\"dataframe\">\n  <thead>\n    <tr style=\"text-align: right;\">\n      <th></th>\n      <th>user</th>\n      <th>item</th>\n      <th>predicted_rating</th>\n    </tr>\n  </thead>\n  <tbody>\n    <tr>\n      <th>5</th>\n      <td>1467</td>\n      <td>131089</td>\n      <td>4.577501</td>\n    </tr>\n    <tr>\n      <th>20</th>\n      <td>1467</td>\n      <td>106555</td>\n      <td>4.459102</td>\n    </tr>\n    <tr>\n      <th>31</th>\n      <td>1467</td>\n      <td>155731</td>\n      <td>4.144755</td>\n    </tr>\n    <tr>\n      <th>58</th>\n      <td>1467</td>\n      <td>147642</td>\n      <td>4.237022</td>\n    </tr>\n    <tr>\n      <th>85</th>\n      <td>1467</td>\n      <td>284</td>\n      <td>4.363167</td>\n    </tr>\n    <tr>\n      <th>107</th>\n      <td>1467</td>\n      <td>172390</td>\n      <td>4.209210</td>\n    </tr>\n    <tr>\n      <th>126</th>\n      <td>1467</td>\n      <td>106910</td>\n      <td>4.002193</td>\n    </tr>\n    <tr>\n      <th>175</th>\n      <td>1467</td>\n      <td>131599</td>\n      <td>3.736137</td>\n    </tr>\n    <tr>\n      <th>210</th>\n      <td>1467</td>\n      <td>74368</td>\n      <td>4.313530</td>\n    </tr>\n    <tr>\n      <th>237</th>\n      <td>1467</td>\n      <td>139982</td>\n      <td>3.516179</td>\n    </tr>\n  </tbody>\n</table>\n</div>"
     },
     "metadata": {},
     "output_type": "display_data"
    }
   ],
   "source": [
    "from IPython.core.display import display\n",
    "import itertools\n",
    "from lenskit.algorithms import Recommender\n",
    "from lenskit.algorithms.user_knn import UserUser\n",
    "\n",
    "user_user = UserUser(15, min_nbrs=3)  # Minimum (3) and maximum (12) number of neighbors to consider\n",
    "recsys = Recommender.adapt(user_user)\n",
    "recsys.fit(df_users)\n",
    "group_unseen_df = pd.DataFrame(list(itertools.product(group_users, group_unseen_recipes)), columns=['user', 'item'])\n",
    "group_unseen_df['predicted_rating'] = recsys.predict(group_unseen_df)\n",
    "group_unseen_df = group_unseen_df[\n",
    "    group_unseen_df['predicted_rating'].notna()]  # remove the recipes we couldn't get a prediction for\n",
    "display(group_unseen_df.head(10))"
   ]
  },
  {
   "cell_type": "code",
   "execution_count": 55,
   "metadata": {
    "pycharm": {
     "name": "#%%\n"
    }
   },
   "outputs": [
    {
     "data": {
      "text/plain": "     user    item  predicted_rating\n5    1467  131089          3.623774\n20   1467  106555          3.511631\n31   1467  155731          3.213895\n58   1467  147642          3.301286\n85   1467     284          3.420766\n107  1467  172390          3.274944\n126  1467  106910          3.078867\n175  1467  131599          2.826870\n210  1467   74368          3.373752\n237  1467  139982          2.618535",
      "text/html": "<div>\n<style scoped>\n    .dataframe tbody tr th:only-of-type {\n        vertical-align: middle;\n    }\n\n    .dataframe tbody tr th {\n        vertical-align: top;\n    }\n\n    .dataframe thead th {\n        text-align: right;\n    }\n</style>\n<table border=\"1\" class=\"dataframe\">\n  <thead>\n    <tr style=\"text-align: right;\">\n      <th></th>\n      <th>user</th>\n      <th>item</th>\n      <th>predicted_rating</th>\n    </tr>\n  </thead>\n  <tbody>\n    <tr>\n      <th>5</th>\n      <td>1467</td>\n      <td>131089</td>\n      <td>3.623774</td>\n    </tr>\n    <tr>\n      <th>20</th>\n      <td>1467</td>\n      <td>106555</td>\n      <td>3.511631</td>\n    </tr>\n    <tr>\n      <th>31</th>\n      <td>1467</td>\n      <td>155731</td>\n      <td>3.213895</td>\n    </tr>\n    <tr>\n      <th>58</th>\n      <td>1467</td>\n      <td>147642</td>\n      <td>3.301286</td>\n    </tr>\n    <tr>\n      <th>85</th>\n      <td>1467</td>\n      <td>284</td>\n      <td>3.420766</td>\n    </tr>\n    <tr>\n      <th>107</th>\n      <td>1467</td>\n      <td>172390</td>\n      <td>3.274944</td>\n    </tr>\n    <tr>\n      <th>126</th>\n      <td>1467</td>\n      <td>106910</td>\n      <td>3.078867</td>\n    </tr>\n    <tr>\n      <th>175</th>\n      <td>1467</td>\n      <td>131599</td>\n      <td>2.826870</td>\n    </tr>\n    <tr>\n      <th>210</th>\n      <td>1467</td>\n      <td>74368</td>\n      <td>3.373752</td>\n    </tr>\n    <tr>\n      <th>237</th>\n      <td>1467</td>\n      <td>139982</td>\n      <td>2.618535</td>\n    </tr>\n  </tbody>\n</table>\n</div>"
     },
     "metadata": {},
     "output_type": "display_data"
    }
   ],
   "source": [
    "#Min-Max normalization of predicted_ratings\n",
    "\n",
    "maxVal = group_unseen_df['predicted_rating'].max()\n",
    "minVal = group_unseen_df['predicted_rating'].min()\n",
    "group_unseen_df['predicted_rating'] = (group_unseen_df['predicted_rating'] - minVal) / (\n",
    "        maxVal - minVal)  # Normalized to 0 - 1 scale\n",
    "group_unseen_df['predicted_rating'] *= 5  # Normalized to 0 - 5 scale\n",
    "\n",
    "display(group_unseen_df.head(10))"
   ]
  },
  {
   "cell_type": "markdown",
   "metadata": {
    "pycharm": {
     "name": "#%% md\n"
    }
   },
   "source": [
    "#### Least Misery strategy"
   ]
  },
  {
   "cell_type": "code",
   "execution_count": 56,
   "metadata": {
    "pycharm": {
     "name": "#%%\n"
    }
   },
   "outputs": [
    {
     "data": {
      "text/plain": "        item  predicted_rating                                name  healthy\n202    31148          4.643931     buffalo chicken flatbread pizza        1\n817   121509          4.297019              lemon date bubble bars        1\n156    25058          4.293552               blended fruit chiller        1\n408    59987          4.292301      crabby cheese angel hair pasta        1\n437    65619          4.167429             crock pot chicken tacos        1\n424    62689          4.141112            creamy chicken taco soup        1\n705   103767          4.123346                      healthy salmon        1\n1089  169138          4.116159        quick n  easy curried shrimp        1\n377    54986          4.107593  claudi sanders  refrigerator rolls        1\n653    97240          4.014044           green beans in beer sauce        1",
      "text/html": "<div>\n<style scoped>\n    .dataframe tbody tr th:only-of-type {\n        vertical-align: middle;\n    }\n\n    .dataframe tbody tr th {\n        vertical-align: top;\n    }\n\n    .dataframe thead th {\n        text-align: right;\n    }\n</style>\n<table border=\"1\" class=\"dataframe\">\n  <thead>\n    <tr style=\"text-align: right;\">\n      <th></th>\n      <th>item</th>\n      <th>predicted_rating</th>\n      <th>name</th>\n      <th>healthy</th>\n    </tr>\n  </thead>\n  <tbody>\n    <tr>\n      <th>202</th>\n      <td>31148</td>\n      <td>4.643931</td>\n      <td>buffalo chicken flatbread pizza</td>\n      <td>1</td>\n    </tr>\n    <tr>\n      <th>817</th>\n      <td>121509</td>\n      <td>4.297019</td>\n      <td>lemon date bubble bars</td>\n      <td>1</td>\n    </tr>\n    <tr>\n      <th>156</th>\n      <td>25058</td>\n      <td>4.293552</td>\n      <td>blended fruit chiller</td>\n      <td>1</td>\n    </tr>\n    <tr>\n      <th>408</th>\n      <td>59987</td>\n      <td>4.292301</td>\n      <td>crabby cheese angel hair pasta</td>\n      <td>1</td>\n    </tr>\n    <tr>\n      <th>437</th>\n      <td>65619</td>\n      <td>4.167429</td>\n      <td>crock pot chicken tacos</td>\n      <td>1</td>\n    </tr>\n    <tr>\n      <th>424</th>\n      <td>62689</td>\n      <td>4.141112</td>\n      <td>creamy chicken taco soup</td>\n      <td>1</td>\n    </tr>\n    <tr>\n      <th>705</th>\n      <td>103767</td>\n      <td>4.123346</td>\n      <td>healthy salmon</td>\n      <td>1</td>\n    </tr>\n    <tr>\n      <th>1089</th>\n      <td>169138</td>\n      <td>4.116159</td>\n      <td>quick n  easy curried shrimp</td>\n      <td>1</td>\n    </tr>\n    <tr>\n      <th>377</th>\n      <td>54986</td>\n      <td>4.107593</td>\n      <td>claudi sanders  refrigerator rolls</td>\n      <td>1</td>\n    </tr>\n    <tr>\n      <th>653</th>\n      <td>97240</td>\n      <td>4.014044</td>\n      <td>green beans in beer sauce</td>\n      <td>1</td>\n    </tr>\n  </tbody>\n</table>\n</div>"
     },
     "metadata": {},
     "output_type": "display_data"
    }
   ],
   "source": [
    "least_misery_df = group_unseen_df.groupby(['item']).min().reset_index()\n",
    "# TODO: Find name of recipe from the RAW data\n",
    "least_misery_df = least_misery_df.join(df_recipes_full['name'], on='item')\n",
    "items_lm = least_misery_df['item'].copy()\n",
    "healthy_lm = ApplyHealthFilter(items_lm)\n",
    "\n",
    "least_misery_df['healthy'] = least_misery_df['item'].apply(lambda x: 1 if x in healthy_lm else 0)\n",
    "least_misery_df = least_misery_df.sort_values(by=\"predicted_rating\", ascending=False)[\n",
    "    ['item', 'predicted_rating', 'name', 'healthy']]\n",
    "\n",
    "least_misery_df = least_misery_df[least_misery_df.healthy == 1]\n",
    "display(least_misery_df.head(10))"
   ]
  },
  {
   "cell_type": "markdown",
   "metadata": {
    "pycharm": {
     "name": "#%% md\n"
    }
   },
   "source": [
    "#### Most Pleasure strategy"
   ]
  },
  {
   "cell_type": "code",
   "execution_count": 57,
   "metadata": {
    "pycharm": {
     "name": "#%%\n"
    }
   },
   "outputs": [
    {
     "data": {
      "text/plain": "      item  predicted_rating  \\\n6    31148          4.643931   \n8   172997          4.608767   \n12  163739          4.562899   \n24  113698          4.501929   \n25  177020          4.491375   \n32   36503          4.461164   \n51   81311          4.405517   \n62  150138          4.377502   \n66  164559          4.372523   \n79   54986          4.346351   \n\n                                                 name  healthy  \n6                     buffalo chicken flatbread pizza        1  \n8                       restaurant style mexican rice        1  \n12              pork tenderloin with balsamic vinegar        1  \n24                           jalapeo cheddar potatoes        1  \n25  rootin  tootin  roasted roots   roasted root v...        1  \n32                   carne en su jugo  estilo tapatio        1  \n51                                 exotic fruit salad        1  \n62                         oriental summer rice salad        1  \n66                        potato and sausage in gravy        1  \n79                 claudi sanders  refrigerator rolls        1  ",
      "text/html": "<div>\n<style scoped>\n    .dataframe tbody tr th:only-of-type {\n        vertical-align: middle;\n    }\n\n    .dataframe tbody tr th {\n        vertical-align: top;\n    }\n\n    .dataframe thead th {\n        text-align: right;\n    }\n</style>\n<table border=\"1\" class=\"dataframe\">\n  <thead>\n    <tr style=\"text-align: right;\">\n      <th></th>\n      <th>item</th>\n      <th>predicted_rating</th>\n      <th>name</th>\n      <th>healthy</th>\n    </tr>\n  </thead>\n  <tbody>\n    <tr>\n      <th>6</th>\n      <td>31148</td>\n      <td>4.643931</td>\n      <td>buffalo chicken flatbread pizza</td>\n      <td>1</td>\n    </tr>\n    <tr>\n      <th>8</th>\n      <td>172997</td>\n      <td>4.608767</td>\n      <td>restaurant style mexican rice</td>\n      <td>1</td>\n    </tr>\n    <tr>\n      <th>12</th>\n      <td>163739</td>\n      <td>4.562899</td>\n      <td>pork tenderloin with balsamic vinegar</td>\n      <td>1</td>\n    </tr>\n    <tr>\n      <th>24</th>\n      <td>113698</td>\n      <td>4.501929</td>\n      <td>jalapeo cheddar potatoes</td>\n      <td>1</td>\n    </tr>\n    <tr>\n      <th>25</th>\n      <td>177020</td>\n      <td>4.491375</td>\n      <td>rootin  tootin  roasted roots   roasted root v...</td>\n      <td>1</td>\n    </tr>\n    <tr>\n      <th>32</th>\n      <td>36503</td>\n      <td>4.461164</td>\n      <td>carne en su jugo  estilo tapatio</td>\n      <td>1</td>\n    </tr>\n    <tr>\n      <th>51</th>\n      <td>81311</td>\n      <td>4.405517</td>\n      <td>exotic fruit salad</td>\n      <td>1</td>\n    </tr>\n    <tr>\n      <th>62</th>\n      <td>150138</td>\n      <td>4.377502</td>\n      <td>oriental summer rice salad</td>\n      <td>1</td>\n    </tr>\n    <tr>\n      <th>66</th>\n      <td>164559</td>\n      <td>4.372523</td>\n      <td>potato and sausage in gravy</td>\n      <td>1</td>\n    </tr>\n    <tr>\n      <th>79</th>\n      <td>54986</td>\n      <td>4.346351</td>\n      <td>claudi sanders  refrigerator rolls</td>\n      <td>1</td>\n    </tr>\n  </tbody>\n</table>\n</div>"
     },
     "metadata": {},
     "output_type": "display_data"
    }
   ],
   "source": [
    "most_pleasure_df = group_unseen_df.groupby(['item']).max().reset_index()\n",
    "# TODO: Find name of recipe from the RAW data\n",
    "items_mp = most_pleasure_df['item'].copy()\n",
    "healthy_mp = ApplyHealthFilter(items_mp)\n",
    "\n",
    "most_pleasure_df['healthy'] = most_pleasure_df['item'].apply(lambda x: 1 if x in healthy_mp else 0)\n",
    "\n",
    "most_pleasure_df = most_pleasure_df.join(df_recipes_full['name'], on='item').reset_index()\n",
    "most_pleasure_df = most_pleasure_df.sort_values(by=\"predicted_rating\", ascending=False).reset_index()[\n",
    "    ['item', 'predicted_rating', 'name', 'healthy']]\n",
    "\n",
    "most_pleasure_df = most_pleasure_df[most_pleasure_df.healthy == 1]\n",
    "\n",
    "display(most_pleasure_df.head(10))"
   ]
  },
  {
   "cell_type": "markdown",
   "metadata": {
    "pycharm": {
     "name": "#%% md\n"
    }
   },
   "source": [
    "#### Approval Voting"
   ]
  },
  {
   "cell_type": "code",
   "execution_count": 60,
   "metadata": {
    "pycharm": {
     "name": "#%%\n"
    }
   },
   "outputs": [
    {
     "data": {
      "text/plain": "     item  predicted_rating  voted                             name\n0   11325          3.891502      9              avocado vinaigrette\n1  129659          3.493177      9  mango salad with grilled shrimp",
      "text/html": "<div>\n<style scoped>\n    .dataframe tbody tr th:only-of-type {\n        vertical-align: middle;\n    }\n\n    .dataframe tbody tr th {\n        vertical-align: top;\n    }\n\n    .dataframe thead th {\n        text-align: right;\n    }\n</style>\n<table border=\"1\" class=\"dataframe\">\n  <thead>\n    <tr style=\"text-align: right;\">\n      <th></th>\n      <th>item</th>\n      <th>predicted_rating</th>\n      <th>voted</th>\n      <th>name</th>\n    </tr>\n  </thead>\n  <tbody>\n    <tr>\n      <th>0</th>\n      <td>11325</td>\n      <td>3.891502</td>\n      <td>9</td>\n      <td>avocado vinaigrette</td>\n    </tr>\n    <tr>\n      <th>1</th>\n      <td>129659</td>\n      <td>3.493177</td>\n      <td>9</td>\n      <td>mango salad with grilled shrimp</td>\n    </tr>\n  </tbody>\n</table>\n</div>"
     },
     "metadata": {},
     "output_type": "display_data"
    }
   ],
   "source": [
    "group_unseen_temp_df = group_unseen_df.copy()\n",
    "group_unseen_temp_df['voted'] = group_unseen_temp_df['predicted_rating'].apply(lambda x: 1 if x > 3.5 else 0)\n",
    "approval_df = group_unseen_temp_df.groupby(['item']).sum()\n",
    "approval_df.drop('user', axis=1, inplace=True)\n",
    "approval_df['predicted_rating'] /= len(random_selected)  # Normalize rating\n",
    "# Only keep the items with maximum approval\n",
    "approval_df = approval_df[approval_df.voted == approval_df.voted.max()]\n",
    "approval_df = approval_df.sort_values(by=\"predicted_rating\",\n",
    "                                      ascending=False).reset_index()  # Get the best rated items with max approval\n",
    "approval_df = approval_df.join(df_recipes_full['name'], on='item')\n",
    "display(approval_df.head(10))"
   ]
  }
 ],
 "metadata": {
  "kernelspec": {
   "display_name": "Python 3 (ipykernel)",
   "language": "python",
   "name": "python3"
  },
  "language_info": {
   "codemirror_mode": {
    "name": "ipython",
    "version": 3
   },
   "file_extension": ".py",
   "mimetype": "text/x-python",
   "name": "python",
   "nbconvert_exporter": "python",
   "pygments_lexer": "ipython3",
   "version": "3.8.12"
  }
 },
 "nbformat": 4,
 "nbformat_minor": 4
}