{
 "cells": [
  {
   "cell_type": "code",
   "execution_count": 32,
   "metadata": {},
   "outputs": [],
   "source": [
    "import pandas as pd\n",
    "import numpy as np\n",
    "import matplotlib.pyplot as plt\n",
    "import sklearn\n",
    "from ast import literal_eval\n",
    "\n",
    "from sklearn.neighbors import KNeighborsRegressor\n",
    "from sklearn.svm import SVR"
   ]
  },
  {
   "cell_type": "markdown",
   "metadata": {},
   "source": [
    "We load in our datasets, consisting of user data and data for the recipes. We will be using the ratings that users gave in combination with the recipe's ingredients, techniques and calories to perform recommendations"
   ]
  },
  {
   "cell_type": "code",
   "execution_count": 33,
   "metadata": {
    "scrolled": true
   },
   "outputs": [
    {
     "name": "stdout",
     "output_type": "stream",
     "text": [
      "62.9% of user have less than 10 reviews\n",
      "39.9% of user have less than 5 reviews\n"
     ]
    }
   ],
   "source": [
    "df_users = pd.read_csv('Data/PP_users.csv')\n",
    "#Note that there are no duplicates\n",
    "df_users.head()\n",
    "\n",
    "# u = user_id, \n",
    "# techniques = techniques used for items  that were interacted with(index is a technique with the number being a counter),\n",
    "# items = item_ids of items that were interacted with, \n",
    "# n_items = number of items reviewed, \n",
    "# ratings = ratings for items reviewed, \n",
    "# n_ratings = number of ratings\n",
    "\n",
    "number_of_users_with_less_than_10_reviews = df_users[df_users[\"n_ratings\"] < 10].shape[0]\n",
    "number_of_users_with_less_than_5_reviews = df_users[df_users[\"n_ratings\"] < 5].shape[0]\n",
    "number_of_users = len(df_users.index)\n",
    "\n",
    "print(str(round((number_of_users_with_less_than_10_reviews / number_of_users) * 100,\n",
    "                1)) + \"% of user have less than 10 reviews\")\n",
    "print(str(round((number_of_users_with_less_than_5_reviews / number_of_users) * 100,\n",
    "                1)) + \"% of user have less than 5 reviews\")\n"
   ]
  },
  {
   "cell_type": "code",
   "execution_count": 34,
   "metadata": {
    "scrolled": false
   },
   "outputs": [
    {
     "data": {
      "text/plain": "       id       i                                        name_tokens  \\\n0  424415      23  [40480, 37229, 2911, 1019, 249, 6878, 6878, 28...   \n1  146223   96900       [40480, 18376, 7056, 246, 1531, 2032, 40481]   \n2  312329  120056     [40480, 21044, 16954, 8294, 556, 10837, 40481]   \n3   74301  168258                       [40480, 10025, 31156, 40481]   \n4   76272  109030  [40480, 17841, 252, 782, 2373, 1641, 2373, 252...   \n\n                                   ingredient_tokens  \\\n0  [[2911, 1019, 249, 6878], [1353], [6953], [153...   \n1  [[17918], [25916], [2507, 6444], [8467, 1179],...   \n2  [[5867, 24176], [1353], [6953], [1301, 11332],...   \n3  [[1270, 1645, 28447], [21601], [27952, 29471, ...   \n4  [[1430, 11434], [1430, 17027], [1615, 23, 695,...   \n\n                                        steps_tokens  \\\n0  [40480, 40482, 21662, 481, 6878, 500, 246, 161...   \n1  [40480, 40482, 729, 2525, 10906, 485, 43, 8393...   \n2  [40480, 40482, 8240, 481, 24176, 296, 1353, 66...   \n3  [40480, 40482, 5539, 21601, 1073, 903, 2324, 4...   \n4  [40480, 40482, 14046, 1430, 11434, 488, 17027,...   \n\n                                          techniques  calorie_level  \\\n0  [0, 0, 0, 0, 0, 0, 0, 0, 0, 1, 0, 0, 0, 0, 0, ...              0   \n1  [1, 0, 0, 0, 0, 0, 0, 0, 0, 1, 0, 0, 0, 0, 0, ...              0   \n2  [0, 0, 0, 0, 1, 0, 0, 0, 0, 0, 0, 1, 0, 0, 0, ...              1   \n3  [1, 0, 0, 0, 0, 0, 0, 0, 0, 0, 0, 0, 0, 0, 0, ...              0   \n4  [0, 0, 0, 0, 0, 0, 0, 0, 0, 1, 0, 0, 0, 0, 0, ...              0   \n\n                                      ingredient_ids  \n0                      [389, 7655, 6270, 1527, 3406]  \n1  [2683, 4969, 800, 5298, 840, 2499, 6632, 7022,...  \n2  [1257, 7655, 6270, 590, 5024, 1119, 4883, 6696...  \n3   [7940, 3609, 7060, 6265, 1170, 6654, 5003, 3561]  \n4                            [3484, 6324, 7594, 243]  ",
      "text/html": "<div>\n<style scoped>\n    .dataframe tbody tr th:only-of-type {\n        vertical-align: middle;\n    }\n\n    .dataframe tbody tr th {\n        vertical-align: top;\n    }\n\n    .dataframe thead th {\n        text-align: right;\n    }\n</style>\n<table border=\"1\" class=\"dataframe\">\n  <thead>\n    <tr style=\"text-align: right;\">\n      <th></th>\n      <th>id</th>\n      <th>i</th>\n      <th>name_tokens</th>\n      <th>ingredient_tokens</th>\n      <th>steps_tokens</th>\n      <th>techniques</th>\n      <th>calorie_level</th>\n      <th>ingredient_ids</th>\n    </tr>\n  </thead>\n  <tbody>\n    <tr>\n      <th>0</th>\n      <td>424415</td>\n      <td>23</td>\n      <td>[40480, 37229, 2911, 1019, 249, 6878, 6878, 28...</td>\n      <td>[[2911, 1019, 249, 6878], [1353], [6953], [153...</td>\n      <td>[40480, 40482, 21662, 481, 6878, 500, 246, 161...</td>\n      <td>[0, 0, 0, 0, 0, 0, 0, 0, 0, 1, 0, 0, 0, 0, 0, ...</td>\n      <td>0</td>\n      <td>[389, 7655, 6270, 1527, 3406]</td>\n    </tr>\n    <tr>\n      <th>1</th>\n      <td>146223</td>\n      <td>96900</td>\n      <td>[40480, 18376, 7056, 246, 1531, 2032, 40481]</td>\n      <td>[[17918], [25916], [2507, 6444], [8467, 1179],...</td>\n      <td>[40480, 40482, 729, 2525, 10906, 485, 43, 8393...</td>\n      <td>[1, 0, 0, 0, 0, 0, 0, 0, 0, 1, 0, 0, 0, 0, 0, ...</td>\n      <td>0</td>\n      <td>[2683, 4969, 800, 5298, 840, 2499, 6632, 7022,...</td>\n    </tr>\n    <tr>\n      <th>2</th>\n      <td>312329</td>\n      <td>120056</td>\n      <td>[40480, 21044, 16954, 8294, 556, 10837, 40481]</td>\n      <td>[[5867, 24176], [1353], [6953], [1301, 11332],...</td>\n      <td>[40480, 40482, 8240, 481, 24176, 296, 1353, 66...</td>\n      <td>[0, 0, 0, 0, 1, 0, 0, 0, 0, 0, 0, 1, 0, 0, 0, ...</td>\n      <td>1</td>\n      <td>[1257, 7655, 6270, 590, 5024, 1119, 4883, 6696...</td>\n    </tr>\n    <tr>\n      <th>3</th>\n      <td>74301</td>\n      <td>168258</td>\n      <td>[40480, 10025, 31156, 40481]</td>\n      <td>[[1270, 1645, 28447], [21601], [27952, 29471, ...</td>\n      <td>[40480, 40482, 5539, 21601, 1073, 903, 2324, 4...</td>\n      <td>[1, 0, 0, 0, 0, 0, 0, 0, 0, 0, 0, 0, 0, 0, 0, ...</td>\n      <td>0</td>\n      <td>[7940, 3609, 7060, 6265, 1170, 6654, 5003, 3561]</td>\n    </tr>\n    <tr>\n      <th>4</th>\n      <td>76272</td>\n      <td>109030</td>\n      <td>[40480, 17841, 252, 782, 2373, 1641, 2373, 252...</td>\n      <td>[[1430, 11434], [1430, 17027], [1615, 23, 695,...</td>\n      <td>[40480, 40482, 14046, 1430, 11434, 488, 17027,...</td>\n      <td>[0, 0, 0, 0, 0, 0, 0, 0, 0, 1, 0, 0, 0, 0, 0, ...</td>\n      <td>0</td>\n      <td>[3484, 6324, 7594, 243]</td>\n    </tr>\n  </tbody>\n</table>\n</div>"
     },
     "execution_count": 34,
     "metadata": {},
     "output_type": "execute_result"
    }
   ],
   "source": [
    "df_recipes = pd.read_csv('Data/PP_recipes.csv')\n",
    "#Note that there are no duplicates\n",
    "df_recipes.head()\n",
    "\n",
    "# id = recipe_id, i = Recipe ID mapped to contiguous integers from 0, \n",
    "# name_tokes = BPE-tokenized recipe name,\n",
    "# ingredient_tokens = BPE-tokenized ingredients list (list of lists), \n",
    "# steps_tokens = BPE-tokenized steps, \n",
    "# techniques = List of techniques used in recipe,\n",
    "# calorie_level = either a 0, 1 or 2 indicating how much calories it contains,\n",
    "# ingredient_ids = the ids of the ingredients used"
   ]
  },
  {
   "cell_type": "code",
   "execution_count": 35,
   "metadata": {},
   "outputs": [
    {
     "data": {
      "text/plain": "   user                                               item  \\\n0     0  [1118, 27680, 32541, 137353, 16428, 28815, 658...   \n1     1  [122140, 77036, 156817, 76957, 68818, 155600, ...   \n2     2  [168054, 87218, 35731, 1, 20475, 9039, 124834,...   \n3     3  [163193, 156352, 102888, 19914, 169438, 55772,...   \n4     4  [72857, 38652, 160427, 55772, 119999, 141777, ...   \n\n                                             ratings  \n0  [5.0, 5.0, 5.0, 5.0, 5.0, 5.0, 5.0, 4.0, 4.0, ...  \n1  [5.0, 5.0, 5.0, 5.0, 5.0, 5.0, 5.0, 5.0, 5.0, ...  \n2  [3.0, 4.0, 4.0, 4.0, 4.0, 4.0, 4.0, 4.0, 5.0, ...  \n3  [5.0, 5.0, 5.0, 5.0, 4.0, 4.0, 5.0, 5.0, 5.0, ...  \n4  [5.0, 5.0, 5.0, 5.0, 4.0, 4.0, 5.0, 4.0, 5.0, ...  ",
      "text/html": "<div>\n<style scoped>\n    .dataframe tbody tr th:only-of-type {\n        vertical-align: middle;\n    }\n\n    .dataframe tbody tr th {\n        vertical-align: top;\n    }\n\n    .dataframe thead th {\n        text-align: right;\n    }\n</style>\n<table border=\"1\" class=\"dataframe\">\n  <thead>\n    <tr style=\"text-align: right;\">\n      <th></th>\n      <th>user</th>\n      <th>item</th>\n      <th>ratings</th>\n    </tr>\n  </thead>\n  <tbody>\n    <tr>\n      <th>0</th>\n      <td>0</td>\n      <td>[1118, 27680, 32541, 137353, 16428, 28815, 658...</td>\n      <td>[5.0, 5.0, 5.0, 5.0, 5.0, 5.0, 5.0, 4.0, 4.0, ...</td>\n    </tr>\n    <tr>\n      <th>1</th>\n      <td>1</td>\n      <td>[122140, 77036, 156817, 76957, 68818, 155600, ...</td>\n      <td>[5.0, 5.0, 5.0, 5.0, 5.0, 5.0, 5.0, 5.0, 5.0, ...</td>\n    </tr>\n    <tr>\n      <th>2</th>\n      <td>2</td>\n      <td>[168054, 87218, 35731, 1, 20475, 9039, 124834,...</td>\n      <td>[3.0, 4.0, 4.0, 4.0, 4.0, 4.0, 4.0, 4.0, 5.0, ...</td>\n    </tr>\n    <tr>\n      <th>3</th>\n      <td>3</td>\n      <td>[163193, 156352, 102888, 19914, 169438, 55772,...</td>\n      <td>[5.0, 5.0, 5.0, 5.0, 4.0, 4.0, 5.0, 5.0, 5.0, ...</td>\n    </tr>\n    <tr>\n      <th>4</th>\n      <td>4</td>\n      <td>[72857, 38652, 160427, 55772, 119999, 141777, ...</td>\n      <td>[5.0, 5.0, 5.0, 5.0, 4.0, 4.0, 5.0, 4.0, 5.0, ...</td>\n    </tr>\n  </tbody>\n</table>\n</div>"
     },
     "execution_count": 35,
     "metadata": {},
     "output_type": "execute_result"
    }
   ],
   "source": [
    "df_users = pd.read_csv('Data/PP_users.csv')\n",
    "df_users.drop('techniques', axis=1, inplace=True)\n",
    "df_users.drop('n_items', axis=1, inplace=True)\n",
    "df_users.drop('n_ratings', axis=1, inplace=True)\n",
    "\n",
    "df_users = df_users.rename(columns={'u': 'user', 'items': 'item'})\n",
    "\n",
    "df_users.head()"
   ]
  },
  {
   "cell_type": "code",
   "execution_count": 36,
   "metadata": {},
   "outputs": [
    {
     "data": {
      "text/plain": "   user    item rating\n0     0    1118    5.0\n1     0   27680    5.0\n2     0   32541    5.0\n3     0  137353    5.0\n4     0   16428    5.0",
      "text/html": "<div>\n<style scoped>\n    .dataframe tbody tr th:only-of-type {\n        vertical-align: middle;\n    }\n\n    .dataframe tbody tr th {\n        vertical-align: top;\n    }\n\n    .dataframe thead th {\n        text-align: right;\n    }\n</style>\n<table border=\"1\" class=\"dataframe\">\n  <thead>\n    <tr style=\"text-align: right;\">\n      <th></th>\n      <th>user</th>\n      <th>item</th>\n      <th>rating</th>\n    </tr>\n  </thead>\n  <tbody>\n    <tr>\n      <th>0</th>\n      <td>0</td>\n      <td>1118</td>\n      <td>5.0</td>\n    </tr>\n    <tr>\n      <th>1</th>\n      <td>0</td>\n      <td>27680</td>\n      <td>5.0</td>\n    </tr>\n    <tr>\n      <th>2</th>\n      <td>0</td>\n      <td>32541</td>\n      <td>5.0</td>\n    </tr>\n    <tr>\n      <th>3</th>\n      <td>0</td>\n      <td>137353</td>\n      <td>5.0</td>\n    </tr>\n    <tr>\n      <th>4</th>\n      <td>0</td>\n      <td>16428</td>\n      <td>5.0</td>\n    </tr>\n  </tbody>\n</table>\n</div>"
     },
     "execution_count": 36,
     "metadata": {},
     "output_type": "execute_result"
    }
   ],
   "source": [
    "# Copied from previous cells for debugging uses\n",
    "df_users = pd.read_csv('Data/PP_users.csv')\n",
    "df_users.drop('techniques', axis=1, inplace=True)\n",
    "df_users.drop('n_items', axis=1, inplace=True)\n",
    "df_users.drop('n_ratings', axis=1, inplace=True)\n",
    "\n",
    "df_users = df_users.rename(columns={'u': 'user', 'items': 'item', 'ratings': 'rating'})\n",
    "#\n",
    "\n",
    "# Needed to make the explode function, source: https://stackoverflow.com/questions/63472664/pandas-explode-function-not-working-for-list-of-string-column\n",
    "df_users['rating'] = df_users['rating'].apply(literal_eval)\n",
    "df_users['item'] = df_users['item'].apply(literal_eval)\n",
    "\n",
    "df_users = df_users.explode(['rating', 'item'], ignore_index=True)\n",
    "df_users.head()"
   ]
  },
  {
   "cell_type": "code",
   "execution_count": 37,
   "metadata": {},
   "outputs": [
    {
     "name": "stderr",
     "output_type": "stream",
     "text": [
      "C:\\Users\\Alex\\AppData\\Local\\Temp/ipykernel_15676/3712807470.py:1: FutureWarning: In a future version of pandas all arguments of DataFrame.drop except for the argument 'labels' will be keyword-only\n",
      "  df_recipes.drop('i', 1, inplace=True)\n",
      "C:\\Users\\Alex\\AppData\\Local\\Temp/ipykernel_15676/3712807470.py:2: FutureWarning: In a future version of pandas all arguments of DataFrame.drop except for the argument 'labels' will be keyword-only\n",
      "  df_recipes.drop('name_tokens', 1, inplace=True)\n",
      "C:\\Users\\Alex\\AppData\\Local\\Temp/ipykernel_15676/3712807470.py:3: FutureWarning: In a future version of pandas all arguments of DataFrame.drop except for the argument 'labels' will be keyword-only\n",
      "  df_recipes.drop('ingredient_tokens', 1, inplace=True)\n",
      "C:\\Users\\Alex\\AppData\\Local\\Temp/ipykernel_15676/3712807470.py:4: FutureWarning: In a future version of pandas all arguments of DataFrame.drop except for the argument 'labels' will be keyword-only\n",
      "  df_recipes.drop('steps_tokens', 1, inplace=True)\n"
     ]
    },
    {
     "data": {
      "text/plain": "       id                                         techniques  calorie_level  \\\n0  424415  [0, 0, 0, 0, 0, 0, 0, 0, 0, 1, 0, 0, 0, 0, 0, ...              0   \n1  146223  [1, 0, 0, 0, 0, 0, 0, 0, 0, 1, 0, 0, 0, 0, 0, ...              0   \n2  312329  [0, 0, 0, 0, 1, 0, 0, 0, 0, 0, 0, 1, 0, 0, 0, ...              1   \n3   74301  [1, 0, 0, 0, 0, 0, 0, 0, 0, 0, 0, 0, 0, 0, 0, ...              0   \n4   76272  [0, 0, 0, 0, 0, 0, 0, 0, 0, 1, 0, 0, 0, 0, 0, ...              0   \n\n                                      ingredient_ids  \n0                      [389, 7655, 6270, 1527, 3406]  \n1  [2683, 4969, 800, 5298, 840, 2499, 6632, 7022,...  \n2  [1257, 7655, 6270, 590, 5024, 1119, 4883, 6696...  \n3   [7940, 3609, 7060, 6265, 1170, 6654, 5003, 3561]  \n4                            [3484, 6324, 7594, 243]  ",
      "text/html": "<div>\n<style scoped>\n    .dataframe tbody tr th:only-of-type {\n        vertical-align: middle;\n    }\n\n    .dataframe tbody tr th {\n        vertical-align: top;\n    }\n\n    .dataframe thead th {\n        text-align: right;\n    }\n</style>\n<table border=\"1\" class=\"dataframe\">\n  <thead>\n    <tr style=\"text-align: right;\">\n      <th></th>\n      <th>id</th>\n      <th>techniques</th>\n      <th>calorie_level</th>\n      <th>ingredient_ids</th>\n    </tr>\n  </thead>\n  <tbody>\n    <tr>\n      <th>0</th>\n      <td>424415</td>\n      <td>[0, 0, 0, 0, 0, 0, 0, 0, 0, 1, 0, 0, 0, 0, 0, ...</td>\n      <td>0</td>\n      <td>[389, 7655, 6270, 1527, 3406]</td>\n    </tr>\n    <tr>\n      <th>1</th>\n      <td>146223</td>\n      <td>[1, 0, 0, 0, 0, 0, 0, 0, 0, 1, 0, 0, 0, 0, 0, ...</td>\n      <td>0</td>\n      <td>[2683, 4969, 800, 5298, 840, 2499, 6632, 7022,...</td>\n    </tr>\n    <tr>\n      <th>2</th>\n      <td>312329</td>\n      <td>[0, 0, 0, 0, 1, 0, 0, 0, 0, 0, 0, 1, 0, 0, 0, ...</td>\n      <td>1</td>\n      <td>[1257, 7655, 6270, 590, 5024, 1119, 4883, 6696...</td>\n    </tr>\n    <tr>\n      <th>3</th>\n      <td>74301</td>\n      <td>[1, 0, 0, 0, 0, 0, 0, 0, 0, 0, 0, 0, 0, 0, 0, ...</td>\n      <td>0</td>\n      <td>[7940, 3609, 7060, 6265, 1170, 6654, 5003, 3561]</td>\n    </tr>\n    <tr>\n      <th>4</th>\n      <td>76272</td>\n      <td>[0, 0, 0, 0, 0, 0, 0, 0, 0, 1, 0, 0, 0, 0, 0, ...</td>\n      <td>0</td>\n      <td>[3484, 6324, 7594, 243]</td>\n    </tr>\n  </tbody>\n</table>\n</div>"
     },
     "execution_count": 37,
     "metadata": {},
     "output_type": "execute_result"
    }
   ],
   "source": [
    "df_recipes.drop('i', axis=1, inplace=True)\n",
    "df_recipes.drop('name_tokens', axis=1, inplace=True)\n",
    "df_recipes.drop('ingredient_tokens', axis=1, inplace=True)\n",
    "df_recipes.drop('steps_tokens', axis=1, inplace=True)\n",
    "\n",
    "df_recipes.head()"
   ]
  },
  {
   "cell_type": "code",
   "execution_count": 38,
   "metadata": {},
   "outputs": [
    {
     "data": {
      "text/plain": "       id techniques  calorie_level ingredient_ids\n0  424415          0              0            389\n0  424415          0              0           7655\n0  424415          0              0           6270\n0  424415          0              0           1527\n0  424415          0              0           3406",
      "text/html": "<div>\n<style scoped>\n    .dataframe tbody tr th:only-of-type {\n        vertical-align: middle;\n    }\n\n    .dataframe tbody tr th {\n        vertical-align: top;\n    }\n\n    .dataframe thead th {\n        text-align: right;\n    }\n</style>\n<table border=\"1\" class=\"dataframe\">\n  <thead>\n    <tr style=\"text-align: right;\">\n      <th></th>\n      <th>id</th>\n      <th>techniques</th>\n      <th>calorie_level</th>\n      <th>ingredient_ids</th>\n    </tr>\n  </thead>\n  <tbody>\n    <tr>\n      <th>0</th>\n      <td>424415</td>\n      <td>0</td>\n      <td>0</td>\n      <td>389</td>\n    </tr>\n    <tr>\n      <th>0</th>\n      <td>424415</td>\n      <td>0</td>\n      <td>0</td>\n      <td>7655</td>\n    </tr>\n    <tr>\n      <th>0</th>\n      <td>424415</td>\n      <td>0</td>\n      <td>0</td>\n      <td>6270</td>\n    </tr>\n    <tr>\n      <th>0</th>\n      <td>424415</td>\n      <td>0</td>\n      <td>0</td>\n      <td>1527</td>\n    </tr>\n    <tr>\n      <th>0</th>\n      <td>424415</td>\n      <td>0</td>\n      <td>0</td>\n      <td>3406</td>\n    </tr>\n  </tbody>\n</table>\n</div>"
     },
     "execution_count": 38,
     "metadata": {},
     "output_type": "execute_result"
    }
   ],
   "source": [
    "# Copied from previous cells for debugging uses\n",
    "df_recipes = pd.read_csv('Data/PP_recipes.csv')\n",
    "\n",
    "df_recipes.drop('i', axis=1, inplace=True)\n",
    "df_recipes.drop('name_tokens', axis=1, inplace=True)\n",
    "df_recipes.drop('ingredient_tokens', axis=1, inplace=True)\n",
    "df_recipes.drop('steps_tokens', axis=1, inplace=True)\n",
    "#\n",
    "\n",
    "# Needed to make the explode function, source: https://stackoverflow.com/questions/63472664/pandas-explode-function-not-working-for-list-of-string-column\n",
    "df_recipes['techniques'] = df_recipes['techniques'].apply(literal_eval)\n",
    "df_recipes['ingredient_ids'] = df_recipes['ingredient_ids'].apply(literal_eval)\n",
    "\n",
    "df_recipes = df_recipes.explode('techniques')\n",
    "df_recipes = df_recipes.explode('ingredient_ids')\n",
    "df_recipes.head()"
   ]
  },
  {
   "cell_type": "markdown",
   "metadata": {},
   "source": [
    "TODO: use algorithm, verify results"
   ]
  },
  {
   "cell_type": "markdown",
   "metadata": {
    "pycharm": {
     "name": "#%% md\n"
    }
   },
   "source": [
    "## 1. Individual Recommendations"
   ]
  },
  {
   "cell_type": "code",
   "execution_count": 38,
   "outputs": [],
   "source": [],
   "metadata": {
    "collapsed": false,
    "pycharm": {
     "name": "#%%\n"
    }
   }
  },
  {
   "cell_type": "markdown",
   "source": [
    "## 2. Group Recommendations"
   ],
   "metadata": {
    "collapsed": false,
    "pycharm": {
     "name": "#%% md\n"
    }
   }
  },
  {
   "cell_type": "code",
   "execution_count": 39,
   "outputs": [
    {
     "name": "stdout",
     "output_type": "stream",
     "text": [
      "[3414, 3682, 10025, 2327, 6937, 2981, 3023, 715, 2118, 1826]\n"
     ]
    }
   ],
   "source": [
    "users_ratings = df_users.groupby(['user']).count()  # count the ratings for each user\n",
    "selected = users_ratings['rating'] > 30  # keep only 30 + ratings\n",
    "selected_users = users_ratings.loc[selected]\n",
    "random_selected = selected_users.sample(n=10)\n",
    "\n",
    "select_column_df = random_selected.reset_index()[\n",
    "    'user']  # reset_index() create a new index, and the userId became a column. Then, we can filter using the column name\n",
    "group_users = list(\n",
    "    select_column_df)  # iloc select by index, since our dataframe only has one row we read it from the index 0\n",
    "print(group_users)"
   ],
   "metadata": {
    "collapsed": false,
    "pycharm": {
     "name": "#%%\n"
    }
   }
  },
  {
   "cell_type": "code",
   "execution_count": 40,
   "outputs": [
    {
     "name": "stdout",
     "output_type": "stream",
     "text": [
      "Total amount of recipes, 178265\n",
      "Recipes that have at least 20 ratings, 2456\n",
      "Recipes that have been rated by the currently selected group, 766\n",
      "New recipes that the group didnt try yet, 2240\n"
     ]
    }
   ],
   "source": [
    "group_ratings = df_users.loc[df_users['user'].isin(group_users)]\n",
    "total_recipes = set(df_recipes.index.tolist())\n",
    "num_ratings_df = df_users.groupby(['item']).count()\n",
    "considered_recipes = set(num_ratings_df.loc[num_ratings_df['user'] >= 30].reset_index()['item'])\n",
    "\n",
    "group_seen_recipes = set(group_ratings['item'].tolist())\n",
    "group_unseen_recipes = considered_recipes - group_seen_recipes\n",
    "\n",
    "print('Total amount of recipes,', len(total_recipes))\n",
    "print('Recipes that have at least 20 ratings,', len(considered_recipes))\n",
    "print('Recipes that have been rated by the currently selected group,', len(group_seen_recipes))\n",
    "print('New recipes that the group didnt try yet,', len(group_unseen_recipes))"
   ],
   "metadata": {
    "collapsed": false,
    "pycharm": {
     "name": "#%%\n"
    }
   }
  },
  {
   "cell_type": "code",
   "execution_count": 41,
   "outputs": [
    {
     "data": {
      "text/plain": "    user    item  predicted_rating\n0   3414   73729          4.426717\n1   3414  172034          4.768642\n2   3414  172037          4.684071\n4   3414   32780          4.624956\n5   3414  155665          4.715182\n7   3414  106520          4.875091\n9   3414   90144          4.330455\n11  3414   65578          4.790447\n12  3414   90160          2.924490\n14  3414  139315          4.008952",
      "text/html": "<div>\n<style scoped>\n    .dataframe tbody tr th:only-of-type {\n        vertical-align: middle;\n    }\n\n    .dataframe tbody tr th {\n        vertical-align: top;\n    }\n\n    .dataframe thead th {\n        text-align: right;\n    }\n</style>\n<table border=\"1\" class=\"dataframe\">\n  <thead>\n    <tr style=\"text-align: right;\">\n      <th></th>\n      <th>user</th>\n      <th>item</th>\n      <th>predicted_rating</th>\n    </tr>\n  </thead>\n  <tbody>\n    <tr>\n      <th>0</th>\n      <td>3414</td>\n      <td>73729</td>\n      <td>4.426717</td>\n    </tr>\n    <tr>\n      <th>1</th>\n      <td>3414</td>\n      <td>172034</td>\n      <td>4.768642</td>\n    </tr>\n    <tr>\n      <th>2</th>\n      <td>3414</td>\n      <td>172037</td>\n      <td>4.684071</td>\n    </tr>\n    <tr>\n      <th>4</th>\n      <td>3414</td>\n      <td>32780</td>\n      <td>4.624956</td>\n    </tr>\n    <tr>\n      <th>5</th>\n      <td>3414</td>\n      <td>155665</td>\n      <td>4.715182</td>\n    </tr>\n    <tr>\n      <th>7</th>\n      <td>3414</td>\n      <td>106520</td>\n      <td>4.875091</td>\n    </tr>\n    <tr>\n      <th>9</th>\n      <td>3414</td>\n      <td>90144</td>\n      <td>4.330455</td>\n    </tr>\n    <tr>\n      <th>11</th>\n      <td>3414</td>\n      <td>65578</td>\n      <td>4.790447</td>\n    </tr>\n    <tr>\n      <th>12</th>\n      <td>3414</td>\n      <td>90160</td>\n      <td>2.924490</td>\n    </tr>\n    <tr>\n      <th>14</th>\n      <td>3414</td>\n      <td>139315</td>\n      <td>4.008952</td>\n    </tr>\n  </tbody>\n</table>\n</div>"
     },
     "metadata": {},
     "output_type": "display_data"
    }
   ],
   "source": [
    "from IPython.core.display import display\n",
    "import itertools\n",
    "from lenskit.algorithms import Recommender\n",
    "from lenskit.algorithms.user_knn import UserUser\n",
    "\n",
    "user_user = UserUser(15, min_nbrs=3)  # Minimum (3) and maximum (12) number of neighbors to consider\n",
    "recsys = Recommender.adapt(user_user)\n",
    "recsys.fit(df_users)\n",
    "group_unseen_df = pd.DataFrame(list(itertools.product(group_users, group_unseen_recipes)), columns=['user', 'item'])\n",
    "group_unseen_df['predicted_rating'] = recsys.predict(group_unseen_df)\n",
    "group_unseen_df = group_unseen_df[\n",
    "    group_unseen_df['predicted_rating'].notna()]  # remove the recipes we couldn't get a prediction for\n",
    "display(group_unseen_df.head(10))"
   ],
   "metadata": {
    "collapsed": false,
    "pycharm": {
     "name": "#%%\n"
    }
   }
  },
  {
   "cell_type": "code",
   "execution_count": 42,
   "outputs": [
    {
     "data": {
      "text/plain": "    user    item  predicted_rating\n0   3414   73729          3.130235\n1   3414  172034          3.387293\n2   3414  172037          3.323712\n4   3414   32780          3.279270\n5   3414  155665          3.347102\n7   3414  106520          3.467320\n9   3414   90144          3.057865\n11  3414   65578          3.403685\n12  3414   90160          2.000868\n14  3414  139315          2.816161",
      "text/html": "<div>\n<style scoped>\n    .dataframe tbody tr th:only-of-type {\n        vertical-align: middle;\n    }\n\n    .dataframe tbody tr th {\n        vertical-align: top;\n    }\n\n    .dataframe thead th {\n        text-align: right;\n    }\n</style>\n<table border=\"1\" class=\"dataframe\">\n  <thead>\n    <tr style=\"text-align: right;\">\n      <th></th>\n      <th>user</th>\n      <th>item</th>\n      <th>predicted_rating</th>\n    </tr>\n  </thead>\n  <tbody>\n    <tr>\n      <th>0</th>\n      <td>3414</td>\n      <td>73729</td>\n      <td>3.130235</td>\n    </tr>\n    <tr>\n      <th>1</th>\n      <td>3414</td>\n      <td>172034</td>\n      <td>3.387293</td>\n    </tr>\n    <tr>\n      <th>2</th>\n      <td>3414</td>\n      <td>172037</td>\n      <td>3.323712</td>\n    </tr>\n    <tr>\n      <th>4</th>\n      <td>3414</td>\n      <td>32780</td>\n      <td>3.279270</td>\n    </tr>\n    <tr>\n      <th>5</th>\n      <td>3414</td>\n      <td>155665</td>\n      <td>3.347102</td>\n    </tr>\n    <tr>\n      <th>7</th>\n      <td>3414</td>\n      <td>106520</td>\n      <td>3.467320</td>\n    </tr>\n    <tr>\n      <th>9</th>\n      <td>3414</td>\n      <td>90144</td>\n      <td>3.057865</td>\n    </tr>\n    <tr>\n      <th>11</th>\n      <td>3414</td>\n      <td>65578</td>\n      <td>3.403685</td>\n    </tr>\n    <tr>\n      <th>12</th>\n      <td>3414</td>\n      <td>90160</td>\n      <td>2.000868</td>\n    </tr>\n    <tr>\n      <th>14</th>\n      <td>3414</td>\n      <td>139315</td>\n      <td>2.816161</td>\n    </tr>\n  </tbody>\n</table>\n</div>"
     },
     "metadata": {},
     "output_type": "display_data"
    }
   ],
   "source": [
    "#Min-Max normalization of predicted_ratings\n",
    "\n",
    "maxVal = group_unseen_df['predicted_rating'].max()\n",
    "minVal = group_unseen_df['predicted_rating'].min()\n",
    "group_unseen_df['predicted_rating'] = (group_unseen_df['predicted_rating'] - minVal) / (\n",
    "            maxVal - minVal)  # Normalized to 0 - 1 scale\n",
    "group_unseen_df['predicted_rating'] *= 5  # Normalized to 0 - 5 scale\n",
    "\n",
    "display(group_unseen_df.head(10))"
   ],
   "metadata": {
    "collapsed": false,
    "pycharm": {
     "name": "#%%\n"
    }
   }
  },
  {
   "cell_type": "markdown",
   "source": [
    "#### Least Misery strategy"
   ],
   "metadata": {
    "collapsed": false,
    "pycharm": {
     "name": "#%% md\n"
    }
   }
  },
  {
   "cell_type": "code",
   "execution_count": 43,
   "outputs": [
    {
     "data": {
      "text/plain": "     item  predicted_rating\n0   80096          3.706521\n1  112305          3.680464\n2  118496          3.633306\n3  114447          3.615273\n4  128535          3.606302\n5  172853          3.605100\n6   33272          3.585411\n7  165260          3.577748\n8   15775          3.573277\n9  133911          3.560739",
      "text/html": "<div>\n<style scoped>\n    .dataframe tbody tr th:only-of-type {\n        vertical-align: middle;\n    }\n\n    .dataframe tbody tr th {\n        vertical-align: top;\n    }\n\n    .dataframe thead th {\n        text-align: right;\n    }\n</style>\n<table border=\"1\" class=\"dataframe\">\n  <thead>\n    <tr style=\"text-align: right;\">\n      <th></th>\n      <th>item</th>\n      <th>predicted_rating</th>\n    </tr>\n  </thead>\n  <tbody>\n    <tr>\n      <th>0</th>\n      <td>80096</td>\n      <td>3.706521</td>\n    </tr>\n    <tr>\n      <th>1</th>\n      <td>112305</td>\n      <td>3.680464</td>\n    </tr>\n    <tr>\n      <th>2</th>\n      <td>118496</td>\n      <td>3.633306</td>\n    </tr>\n    <tr>\n      <th>3</th>\n      <td>114447</td>\n      <td>3.615273</td>\n    </tr>\n    <tr>\n      <th>4</th>\n      <td>128535</td>\n      <td>3.606302</td>\n    </tr>\n    <tr>\n      <th>5</th>\n      <td>172853</td>\n      <td>3.605100</td>\n    </tr>\n    <tr>\n      <th>6</th>\n      <td>33272</td>\n      <td>3.585411</td>\n    </tr>\n    <tr>\n      <th>7</th>\n      <td>165260</td>\n      <td>3.577748</td>\n    </tr>\n    <tr>\n      <th>8</th>\n      <td>15775</td>\n      <td>3.573277</td>\n    </tr>\n    <tr>\n      <th>9</th>\n      <td>133911</td>\n      <td>3.560739</td>\n    </tr>\n  </tbody>\n</table>\n</div>"
     },
     "metadata": {},
     "output_type": "display_data"
    }
   ],
   "source": [
    "least_misery_df = group_unseen_df.groupby('item').min()\n",
    "# TODO: Find name of recipe from the RAW data\n",
    "least_misery_df = least_misery_df.sort_values(by=\"predicted_rating\", ascending=False).reset_index()[\n",
    "    ['item', 'predicted_rating']]\n",
    "display(least_misery_df.head(10))"
   ],
   "metadata": {
    "collapsed": false,
    "pycharm": {
     "name": "#%%\n"
    }
   }
  },
  {
   "cell_type": "markdown",
   "source": [
    "#### Most Pleasure strategy"
   ],
   "metadata": {
    "collapsed": false,
    "pycharm": {
     "name": "#%% md\n"
    }
   }
  },
  {
   "cell_type": "code",
   "execution_count": 44,
   "outputs": [
    {
     "data": {
      "text/plain": "     item  predicted_rating\n0   15728          5.000000\n1  170188          4.349244\n2  156278          4.205091\n3  125296          4.119584\n4   62117          4.065090\n5  166665          4.041326\n6   65759          4.034062\n7   38699          4.033526\n8    4827          4.020633\n9  136059          3.989720",
      "text/html": "<div>\n<style scoped>\n    .dataframe tbody tr th:only-of-type {\n        vertical-align: middle;\n    }\n\n    .dataframe tbody tr th {\n        vertical-align: top;\n    }\n\n    .dataframe thead th {\n        text-align: right;\n    }\n</style>\n<table border=\"1\" class=\"dataframe\">\n  <thead>\n    <tr style=\"text-align: right;\">\n      <th></th>\n      <th>item</th>\n      <th>predicted_rating</th>\n    </tr>\n  </thead>\n  <tbody>\n    <tr>\n      <th>0</th>\n      <td>15728</td>\n      <td>5.000000</td>\n    </tr>\n    <tr>\n      <th>1</th>\n      <td>170188</td>\n      <td>4.349244</td>\n    </tr>\n    <tr>\n      <th>2</th>\n      <td>156278</td>\n      <td>4.205091</td>\n    </tr>\n    <tr>\n      <th>3</th>\n      <td>125296</td>\n      <td>4.119584</td>\n    </tr>\n    <tr>\n      <th>4</th>\n      <td>62117</td>\n      <td>4.065090</td>\n    </tr>\n    <tr>\n      <th>5</th>\n      <td>166665</td>\n      <td>4.041326</td>\n    </tr>\n    <tr>\n      <th>6</th>\n      <td>65759</td>\n      <td>4.034062</td>\n    </tr>\n    <tr>\n      <th>7</th>\n      <td>38699</td>\n      <td>4.033526</td>\n    </tr>\n    <tr>\n      <th>8</th>\n      <td>4827</td>\n      <td>4.020633</td>\n    </tr>\n    <tr>\n      <th>9</th>\n      <td>136059</td>\n      <td>3.989720</td>\n    </tr>\n  </tbody>\n</table>\n</div>"
     },
     "metadata": {},
     "output_type": "display_data"
    }
   ],
   "source": [
    "most_pleasure_df = group_unseen_df.groupby('item').max()\n",
    "# TODO: Find name of recipe from the RAW data\n",
    "most_pleasure_df = most_pleasure_df.sort_values(by=\"predicted_rating\", ascending=False).reset_index()[\n",
    "    ['item', 'predicted_rating']]\n",
    "display(most_pleasure_df.head(10))"
   ],
   "metadata": {
    "collapsed": false,
    "pycharm": {
     "name": "#%%\n"
    }
   }
  },
  {
   "cell_type": "markdown",
   "source": [
    "#### Approval Voting"
   ],
   "metadata": {
    "collapsed": false,
    "pycharm": {
     "name": "#%% md\n"
    }
   }
  },
  {
   "cell_type": "code",
   "execution_count": 45,
   "outputs": [
    {
     "data": {
      "text/plain": "        predicted_rating  voted\nitem                           \n151474          3.461494      5\n36207           3.349747      4\n28688           2.081879      4\n153273          3.384419      4\n882             3.295421      4\n99885           3.459514      4\n60561           3.387407      4\n47837           3.380006      3\n89947           1.724844      3\n15728           3.288484      3",
      "text/html": "<div>\n<style scoped>\n    .dataframe tbody tr th:only-of-type {\n        vertical-align: middle;\n    }\n\n    .dataframe tbody tr th {\n        vertical-align: top;\n    }\n\n    .dataframe thead th {\n        text-align: right;\n    }\n</style>\n<table border=\"1\" class=\"dataframe\">\n  <thead>\n    <tr style=\"text-align: right;\">\n      <th></th>\n      <th>predicted_rating</th>\n      <th>voted</th>\n    </tr>\n    <tr>\n      <th>item</th>\n      <th></th>\n      <th></th>\n    </tr>\n  </thead>\n  <tbody>\n    <tr>\n      <th>151474</th>\n      <td>3.461494</td>\n      <td>5</td>\n    </tr>\n    <tr>\n      <th>36207</th>\n      <td>3.349747</td>\n      <td>4</td>\n    </tr>\n    <tr>\n      <th>28688</th>\n      <td>2.081879</td>\n      <td>4</td>\n    </tr>\n    <tr>\n      <th>153273</th>\n      <td>3.384419</td>\n      <td>4</td>\n    </tr>\n    <tr>\n      <th>882</th>\n      <td>3.295421</td>\n      <td>4</td>\n    </tr>\n    <tr>\n      <th>99885</th>\n      <td>3.459514</td>\n      <td>4</td>\n    </tr>\n    <tr>\n      <th>60561</th>\n      <td>3.387407</td>\n      <td>4</td>\n    </tr>\n    <tr>\n      <th>47837</th>\n      <td>3.380006</td>\n      <td>3</td>\n    </tr>\n    <tr>\n      <th>89947</th>\n      <td>1.724844</td>\n      <td>3</td>\n    </tr>\n    <tr>\n      <th>15728</th>\n      <td>3.288484</td>\n      <td>3</td>\n    </tr>\n  </tbody>\n</table>\n</div>"
     },
     "metadata": {},
     "output_type": "display_data"
    }
   ],
   "source": [
    "group_unseen_temp_df = group_unseen_df.copy()\n",
    "group_unseen_temp_df['voted'] = group_unseen_temp_df['predicted_rating'].apply(lambda x: 1 if x > 3.5 else 0)\n",
    "approval_df = group_unseen_temp_df.groupby('item').sum()\n",
    "approval_df = approval_df.sort_values(by=\"voted\", ascending=False)\n",
    "approval_df.drop('user', axis=1, inplace=True)\n",
    "approval_df['predicted_rating'] /= len(random_selected) # Normalize rating\n",
    "display(approval_df.head(10))"
   ],
   "metadata": {
    "collapsed": false,
    "pycharm": {
     "name": "#%%\n"
    }
   }
  }
 ],
 "metadata": {
  "kernelspec": {
   "display_name": "Python 3",
   "language": "python",
   "name": "python3"
  },
  "language_info": {
   "codemirror_mode": {
    "name": "ipython",
    "version": 3
   },
   "file_extension": ".py",
   "mimetype": "text/x-python",
   "name": "python",
   "nbconvert_exporter": "python",
   "pygments_lexer": "ipython3",
   "version": "3.6.13"
  }
 },
 "nbformat": 4,
 "nbformat_minor": 4
}
