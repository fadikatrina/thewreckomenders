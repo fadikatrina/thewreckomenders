{
 "cells": [
  {
   "cell_type": "code",
   "execution_count": 1,
   "metadata": {},
   "outputs": [],
   "source": [
    "import pandas as pd\n",
    "import numpy as np\n",
    "import matplotlib.pyplot as plt\n",
    "import sklearn\n",
    "from ast import literal_eval\n",
    "\n",
    "from sklearn.neighbors import KNeighborsRegressor\n",
    "from sklearn.svm import SVR"
   ]
  },
  {
   "cell_type": "markdown",
   "metadata": {},
   "source": [
    "We load in our datasets, consisting of user data and data for the recipes. We will be using the ratings that users gave in combination with the recipe's ingredients, techniques and calories to perform recommendations"
   ]
  },
  {
   "cell_type": "code",
   "execution_count": 2,
   "metadata": {
    "scrolled": true
   },
   "outputs": [
    {
     "name": "stdout",
     "output_type": "stream",
     "text": [
      "62.9% of user have less than 10 reviews\n",
      "39.9% of user have less than 5 reviews\n"
     ]
    }
   ],
   "source": [
    "df_users = pd.read_csv('Data/PP_users.csv')\n",
    "#Note that there are no duplicates\n",
    "df_users.head()\n",
    "\n",
    "# u = user_id, \n",
    "# techniques = techniques used for items  that were interacted with(index is a technique with the number being a counter),\n",
    "# items = item_ids of items that were interacted with, \n",
    "# n_items = number of items reviewed, \n",
    "# ratings = ratings for items reviewed, \n",
    "# n_ratings = number of ratings\n",
    "\n",
    "number_of_users_with_less_than_10_reviews = df_users[df_users[\"n_ratings\"] < 10].shape[0]\n",
    "number_of_users_with_less_than_5_reviews = df_users[df_users[\"n_ratings\"] < 5].shape[0]\n",
    "number_of_users = len(df_users.index)\n",
    "\n",
    "print(str(round((number_of_users_with_less_than_10_reviews / number_of_users) * 100,\n",
    "                1)) + \"% of user have less than 10 reviews\")\n",
    "print(str(round((number_of_users_with_less_than_5_reviews / number_of_users) * 100,\n",
    "                1)) + \"% of user have less than 5 reviews\")\n"
   ]
  },
  {
   "cell_type": "code",
   "execution_count": 3,
   "metadata": {
    "scrolled": false
   },
   "outputs": [
    {
     "data": {
      "text/plain": "       id       i                                        name_tokens  \\\n0  424415      23  [40480, 37229, 2911, 1019, 249, 6878, 6878, 28...   \n1  146223   96900       [40480, 18376, 7056, 246, 1531, 2032, 40481]   \n2  312329  120056     [40480, 21044, 16954, 8294, 556, 10837, 40481]   \n3   74301  168258                       [40480, 10025, 31156, 40481]   \n4   76272  109030  [40480, 17841, 252, 782, 2373, 1641, 2373, 252...   \n\n                                   ingredient_tokens  \\\n0  [[2911, 1019, 249, 6878], [1353], [6953], [153...   \n1  [[17918], [25916], [2507, 6444], [8467, 1179],...   \n2  [[5867, 24176], [1353], [6953], [1301, 11332],...   \n3  [[1270, 1645, 28447], [21601], [27952, 29471, ...   \n4  [[1430, 11434], [1430, 17027], [1615, 23, 695,...   \n\n                                        steps_tokens  \\\n0  [40480, 40482, 21662, 481, 6878, 500, 246, 161...   \n1  [40480, 40482, 729, 2525, 10906, 485, 43, 8393...   \n2  [40480, 40482, 8240, 481, 24176, 296, 1353, 66...   \n3  [40480, 40482, 5539, 21601, 1073, 903, 2324, 4...   \n4  [40480, 40482, 14046, 1430, 11434, 488, 17027,...   \n\n                                          techniques  calorie_level  \\\n0  [0, 0, 0, 0, 0, 0, 0, 0, 0, 1, 0, 0, 0, 0, 0, ...              0   \n1  [1, 0, 0, 0, 0, 0, 0, 0, 0, 1, 0, 0, 0, 0, 0, ...              0   \n2  [0, 0, 0, 0, 1, 0, 0, 0, 0, 0, 0, 1, 0, 0, 0, ...              1   \n3  [1, 0, 0, 0, 0, 0, 0, 0, 0, 0, 0, 0, 0, 0, 0, ...              0   \n4  [0, 0, 0, 0, 0, 0, 0, 0, 0, 1, 0, 0, 0, 0, 0, ...              0   \n\n                                      ingredient_ids  \n0                      [389, 7655, 6270, 1527, 3406]  \n1  [2683, 4969, 800, 5298, 840, 2499, 6632, 7022,...  \n2  [1257, 7655, 6270, 590, 5024, 1119, 4883, 6696...  \n3   [7940, 3609, 7060, 6265, 1170, 6654, 5003, 3561]  \n4                            [3484, 6324, 7594, 243]  ",
      "text/html": "<div>\n<style scoped>\n    .dataframe tbody tr th:only-of-type {\n        vertical-align: middle;\n    }\n\n    .dataframe tbody tr th {\n        vertical-align: top;\n    }\n\n    .dataframe thead th {\n        text-align: right;\n    }\n</style>\n<table border=\"1\" class=\"dataframe\">\n  <thead>\n    <tr style=\"text-align: right;\">\n      <th></th>\n      <th>id</th>\n      <th>i</th>\n      <th>name_tokens</th>\n      <th>ingredient_tokens</th>\n      <th>steps_tokens</th>\n      <th>techniques</th>\n      <th>calorie_level</th>\n      <th>ingredient_ids</th>\n    </tr>\n  </thead>\n  <tbody>\n    <tr>\n      <th>0</th>\n      <td>424415</td>\n      <td>23</td>\n      <td>[40480, 37229, 2911, 1019, 249, 6878, 6878, 28...</td>\n      <td>[[2911, 1019, 249, 6878], [1353], [6953], [153...</td>\n      <td>[40480, 40482, 21662, 481, 6878, 500, 246, 161...</td>\n      <td>[0, 0, 0, 0, 0, 0, 0, 0, 0, 1, 0, 0, 0, 0, 0, ...</td>\n      <td>0</td>\n      <td>[389, 7655, 6270, 1527, 3406]</td>\n    </tr>\n    <tr>\n      <th>1</th>\n      <td>146223</td>\n      <td>96900</td>\n      <td>[40480, 18376, 7056, 246, 1531, 2032, 40481]</td>\n      <td>[[17918], [25916], [2507, 6444], [8467, 1179],...</td>\n      <td>[40480, 40482, 729, 2525, 10906, 485, 43, 8393...</td>\n      <td>[1, 0, 0, 0, 0, 0, 0, 0, 0, 1, 0, 0, 0, 0, 0, ...</td>\n      <td>0</td>\n      <td>[2683, 4969, 800, 5298, 840, 2499, 6632, 7022,...</td>\n    </tr>\n    <tr>\n      <th>2</th>\n      <td>312329</td>\n      <td>120056</td>\n      <td>[40480, 21044, 16954, 8294, 556, 10837, 40481]</td>\n      <td>[[5867, 24176], [1353], [6953], [1301, 11332],...</td>\n      <td>[40480, 40482, 8240, 481, 24176, 296, 1353, 66...</td>\n      <td>[0, 0, 0, 0, 1, 0, 0, 0, 0, 0, 0, 1, 0, 0, 0, ...</td>\n      <td>1</td>\n      <td>[1257, 7655, 6270, 590, 5024, 1119, 4883, 6696...</td>\n    </tr>\n    <tr>\n      <th>3</th>\n      <td>74301</td>\n      <td>168258</td>\n      <td>[40480, 10025, 31156, 40481]</td>\n      <td>[[1270, 1645, 28447], [21601], [27952, 29471, ...</td>\n      <td>[40480, 40482, 5539, 21601, 1073, 903, 2324, 4...</td>\n      <td>[1, 0, 0, 0, 0, 0, 0, 0, 0, 0, 0, 0, 0, 0, 0, ...</td>\n      <td>0</td>\n      <td>[7940, 3609, 7060, 6265, 1170, 6654, 5003, 3561]</td>\n    </tr>\n    <tr>\n      <th>4</th>\n      <td>76272</td>\n      <td>109030</td>\n      <td>[40480, 17841, 252, 782, 2373, 1641, 2373, 252...</td>\n      <td>[[1430, 11434], [1430, 17027], [1615, 23, 695,...</td>\n      <td>[40480, 40482, 14046, 1430, 11434, 488, 17027,...</td>\n      <td>[0, 0, 0, 0, 0, 0, 0, 0, 0, 1, 0, 0, 0, 0, 0, ...</td>\n      <td>0</td>\n      <td>[3484, 6324, 7594, 243]</td>\n    </tr>\n  </tbody>\n</table>\n</div>"
     },
     "execution_count": 3,
     "metadata": {},
     "output_type": "execute_result"
    }
   ],
   "source": [
    "df_recipes = pd.read_csv('Data/PP_recipes.csv')\n",
    "#Note that there are no duplicates\n",
    "df_recipes.head()\n",
    "\n",
    "# id = recipe_id, i = Recipe ID mapped to contiguous integers from 0, \n",
    "# name_tokes = BPE-tokenized recipe name,\n",
    "# ingredient_tokens = BPE-tokenized ingredients list (list of lists), \n",
    "# steps_tokens = BPE-tokenized steps, \n",
    "# techniques = List of techniques used in recipe,\n",
    "# calorie_level = either a 0, 1 or 2 indicating how much calories it contains,\n",
    "# ingredient_ids = the ids of the ingredients used"
   ]
  },
  {
   "cell_type": "code",
   "execution_count": 4,
   "metadata": {},
   "outputs": [
    {
     "name": "stderr",
     "output_type": "stream",
     "text": [
      "C:\\Users\\Alex\\AppData\\Local\\Temp/ipykernel_2672/456852448.py:2: FutureWarning: In a future version of pandas all arguments of DataFrame.drop except for the argument 'labels' will be keyword-only\n",
      "  df_users.drop('techniques', 1, inplace=True)\n",
      "C:\\Users\\Alex\\AppData\\Local\\Temp/ipykernel_2672/456852448.py:3: FutureWarning: In a future version of pandas all arguments of DataFrame.drop except for the argument 'labels' will be keyword-only\n",
      "  df_users.drop('n_items', 1, inplace=True)\n",
      "C:\\Users\\Alex\\AppData\\Local\\Temp/ipykernel_2672/456852448.py:4: FutureWarning: In a future version of pandas all arguments of DataFrame.drop except for the argument 'labels' will be keyword-only\n",
      "  df_users.drop('n_ratings', 1, inplace=True)\n"
     ]
    },
    {
     "data": {
      "text/plain": "   user                                               item  \\\n0     0  [1118, 27680, 32541, 137353, 16428, 28815, 658...   \n1     1  [122140, 77036, 156817, 76957, 68818, 155600, ...   \n2     2  [168054, 87218, 35731, 1, 20475, 9039, 124834,...   \n3     3  [163193, 156352, 102888, 19914, 169438, 55772,...   \n4     4  [72857, 38652, 160427, 55772, 119999, 141777, ...   \n\n                                             ratings  \n0  [5.0, 5.0, 5.0, 5.0, 5.0, 5.0, 5.0, 4.0, 4.0, ...  \n1  [5.0, 5.0, 5.0, 5.0, 5.0, 5.0, 5.0, 5.0, 5.0, ...  \n2  [3.0, 4.0, 4.0, 4.0, 4.0, 4.0, 4.0, 4.0, 5.0, ...  \n3  [5.0, 5.0, 5.0, 5.0, 4.0, 4.0, 5.0, 5.0, 5.0, ...  \n4  [5.0, 5.0, 5.0, 5.0, 4.0, 4.0, 5.0, 4.0, 5.0, ...  ",
      "text/html": "<div>\n<style scoped>\n    .dataframe tbody tr th:only-of-type {\n        vertical-align: middle;\n    }\n\n    .dataframe tbody tr th {\n        vertical-align: top;\n    }\n\n    .dataframe thead th {\n        text-align: right;\n    }\n</style>\n<table border=\"1\" class=\"dataframe\">\n  <thead>\n    <tr style=\"text-align: right;\">\n      <th></th>\n      <th>user</th>\n      <th>item</th>\n      <th>ratings</th>\n    </tr>\n  </thead>\n  <tbody>\n    <tr>\n      <th>0</th>\n      <td>0</td>\n      <td>[1118, 27680, 32541, 137353, 16428, 28815, 658...</td>\n      <td>[5.0, 5.0, 5.0, 5.0, 5.0, 5.0, 5.0, 4.0, 4.0, ...</td>\n    </tr>\n    <tr>\n      <th>1</th>\n      <td>1</td>\n      <td>[122140, 77036, 156817, 76957, 68818, 155600, ...</td>\n      <td>[5.0, 5.0, 5.0, 5.0, 5.0, 5.0, 5.0, 5.0, 5.0, ...</td>\n    </tr>\n    <tr>\n      <th>2</th>\n      <td>2</td>\n      <td>[168054, 87218, 35731, 1, 20475, 9039, 124834,...</td>\n      <td>[3.0, 4.0, 4.0, 4.0, 4.0, 4.0, 4.0, 4.0, 5.0, ...</td>\n    </tr>\n    <tr>\n      <th>3</th>\n      <td>3</td>\n      <td>[163193, 156352, 102888, 19914, 169438, 55772,...</td>\n      <td>[5.0, 5.0, 5.0, 5.0, 4.0, 4.0, 5.0, 5.0, 5.0, ...</td>\n    </tr>\n    <tr>\n      <th>4</th>\n      <td>4</td>\n      <td>[72857, 38652, 160427, 55772, 119999, 141777, ...</td>\n      <td>[5.0, 5.0, 5.0, 5.0, 4.0, 4.0, 5.0, 4.0, 5.0, ...</td>\n    </tr>\n  </tbody>\n</table>\n</div>"
     },
     "execution_count": 4,
     "metadata": {},
     "output_type": "execute_result"
    }
   ],
   "source": [
    "df_users = pd.read_csv('Data/PP_users.csv')\n",
    "df_users.drop('techniques', 1, inplace=True)\n",
    "df_users.drop('n_items', 1, inplace=True)\n",
    "df_users.drop('n_ratings', 1, inplace=True)\n",
    "\n",
    "df_users = df_users.rename(columns={'u': 'user', 'items': 'item'})\n",
    "\n",
    "df_users.head()"
   ]
  },
  {
   "cell_type": "code",
   "execution_count": 5,
   "metadata": {},
   "outputs": [
    {
     "name": "stderr",
     "output_type": "stream",
     "text": [
      "C:\\Users\\Alex\\AppData\\Local\\Temp/ipykernel_2672/1992999188.py:3: FutureWarning: In a future version of pandas all arguments of DataFrame.drop except for the argument 'labels' will be keyword-only\n",
      "  df_users.drop('techniques', 1, inplace=True)\n",
      "C:\\Users\\Alex\\AppData\\Local\\Temp/ipykernel_2672/1992999188.py:4: FutureWarning: In a future version of pandas all arguments of DataFrame.drop except for the argument 'labels' will be keyword-only\n",
      "  df_users.drop('n_items', 1, inplace=True)\n",
      "C:\\Users\\Alex\\AppData\\Local\\Temp/ipykernel_2672/1992999188.py:5: FutureWarning: In a future version of pandas all arguments of DataFrame.drop except for the argument 'labels' will be keyword-only\n",
      "  df_users.drop('n_ratings', 1, inplace=True)\n"
     ]
    },
    {
     "data": {
      "text/plain": "   user    item rating\n0     0    1118    5.0\n1     0   27680    5.0\n2     0   32541    5.0\n3     0  137353    5.0\n4     0   16428    5.0",
      "text/html": "<div>\n<style scoped>\n    .dataframe tbody tr th:only-of-type {\n        vertical-align: middle;\n    }\n\n    .dataframe tbody tr th {\n        vertical-align: top;\n    }\n\n    .dataframe thead th {\n        text-align: right;\n    }\n</style>\n<table border=\"1\" class=\"dataframe\">\n  <thead>\n    <tr style=\"text-align: right;\">\n      <th></th>\n      <th>user</th>\n      <th>item</th>\n      <th>rating</th>\n    </tr>\n  </thead>\n  <tbody>\n    <tr>\n      <th>0</th>\n      <td>0</td>\n      <td>1118</td>\n      <td>5.0</td>\n    </tr>\n    <tr>\n      <th>1</th>\n      <td>0</td>\n      <td>27680</td>\n      <td>5.0</td>\n    </tr>\n    <tr>\n      <th>2</th>\n      <td>0</td>\n      <td>32541</td>\n      <td>5.0</td>\n    </tr>\n    <tr>\n      <th>3</th>\n      <td>0</td>\n      <td>137353</td>\n      <td>5.0</td>\n    </tr>\n    <tr>\n      <th>4</th>\n      <td>0</td>\n      <td>16428</td>\n      <td>5.0</td>\n    </tr>\n  </tbody>\n</table>\n</div>"
     },
     "execution_count": 5,
     "metadata": {},
     "output_type": "execute_result"
    }
   ],
   "source": [
    "# Copied from previous cells for debugging uses\n",
    "df_users = pd.read_csv('Data/PP_users.csv')\n",
    "df_users.drop('techniques', 1, inplace=True)\n",
    "df_users.drop('n_items', 1, inplace=True)\n",
    "df_users.drop('n_ratings', 1, inplace=True)\n",
    "\n",
    "df_users = df_users.rename(columns={'u': 'user', 'items': 'item', 'ratings': 'rating'})\n",
    "#\n",
    "\n",
    "# Needed to make the explode function, source: https://stackoverflow.com/questions/63472664/pandas-explode-function-not-working-for-list-of-string-column\n",
    "df_users['rating'] = df_users['rating'].apply(literal_eval)\n",
    "df_users['item'] = df_users['item'].apply(literal_eval)\n",
    "\n",
    "df_users = df_users.explode(['rating', 'item'], ignore_index=True)\n",
    "df_users.head()"
   ]
  },
  {
   "cell_type": "code",
   "execution_count": 6,
   "metadata": {},
   "outputs": [
    {
     "name": "stderr",
     "output_type": "stream",
     "text": [
      "C:\\Users\\Alex\\AppData\\Local\\Temp/ipykernel_2672/3712807470.py:1: FutureWarning: In a future version of pandas all arguments of DataFrame.drop except for the argument 'labels' will be keyword-only\n",
      "  df_recipes.drop('i', 1, inplace=True)\n",
      "C:\\Users\\Alex\\AppData\\Local\\Temp/ipykernel_2672/3712807470.py:2: FutureWarning: In a future version of pandas all arguments of DataFrame.drop except for the argument 'labels' will be keyword-only\n",
      "  df_recipes.drop('name_tokens', 1, inplace=True)\n",
      "C:\\Users\\Alex\\AppData\\Local\\Temp/ipykernel_2672/3712807470.py:3: FutureWarning: In a future version of pandas all arguments of DataFrame.drop except for the argument 'labels' will be keyword-only\n",
      "  df_recipes.drop('ingredient_tokens', 1, inplace=True)\n",
      "C:\\Users\\Alex\\AppData\\Local\\Temp/ipykernel_2672/3712807470.py:4: FutureWarning: In a future version of pandas all arguments of DataFrame.drop except for the argument 'labels' will be keyword-only\n",
      "  df_recipes.drop('steps_tokens', 1, inplace=True)\n"
     ]
    },
    {
     "data": {
      "text/plain": "       id                                         techniques  calorie_level  \\\n0  424415  [0, 0, 0, 0, 0, 0, 0, 0, 0, 1, 0, 0, 0, 0, 0, ...              0   \n1  146223  [1, 0, 0, 0, 0, 0, 0, 0, 0, 1, 0, 0, 0, 0, 0, ...              0   \n2  312329  [0, 0, 0, 0, 1, 0, 0, 0, 0, 0, 0, 1, 0, 0, 0, ...              1   \n3   74301  [1, 0, 0, 0, 0, 0, 0, 0, 0, 0, 0, 0, 0, 0, 0, ...              0   \n4   76272  [0, 0, 0, 0, 0, 0, 0, 0, 0, 1, 0, 0, 0, 0, 0, ...              0   \n\n                                      ingredient_ids  \n0                      [389, 7655, 6270, 1527, 3406]  \n1  [2683, 4969, 800, 5298, 840, 2499, 6632, 7022,...  \n2  [1257, 7655, 6270, 590, 5024, 1119, 4883, 6696...  \n3   [7940, 3609, 7060, 6265, 1170, 6654, 5003, 3561]  \n4                            [3484, 6324, 7594, 243]  ",
      "text/html": "<div>\n<style scoped>\n    .dataframe tbody tr th:only-of-type {\n        vertical-align: middle;\n    }\n\n    .dataframe tbody tr th {\n        vertical-align: top;\n    }\n\n    .dataframe thead th {\n        text-align: right;\n    }\n</style>\n<table border=\"1\" class=\"dataframe\">\n  <thead>\n    <tr style=\"text-align: right;\">\n      <th></th>\n      <th>id</th>\n      <th>techniques</th>\n      <th>calorie_level</th>\n      <th>ingredient_ids</th>\n    </tr>\n  </thead>\n  <tbody>\n    <tr>\n      <th>0</th>\n      <td>424415</td>\n      <td>[0, 0, 0, 0, 0, 0, 0, 0, 0, 1, 0, 0, 0, 0, 0, ...</td>\n      <td>0</td>\n      <td>[389, 7655, 6270, 1527, 3406]</td>\n    </tr>\n    <tr>\n      <th>1</th>\n      <td>146223</td>\n      <td>[1, 0, 0, 0, 0, 0, 0, 0, 0, 1, 0, 0, 0, 0, 0, ...</td>\n      <td>0</td>\n      <td>[2683, 4969, 800, 5298, 840, 2499, 6632, 7022,...</td>\n    </tr>\n    <tr>\n      <th>2</th>\n      <td>312329</td>\n      <td>[0, 0, 0, 0, 1, 0, 0, 0, 0, 0, 0, 1, 0, 0, 0, ...</td>\n      <td>1</td>\n      <td>[1257, 7655, 6270, 590, 5024, 1119, 4883, 6696...</td>\n    </tr>\n    <tr>\n      <th>3</th>\n      <td>74301</td>\n      <td>[1, 0, 0, 0, 0, 0, 0, 0, 0, 0, 0, 0, 0, 0, 0, ...</td>\n      <td>0</td>\n      <td>[7940, 3609, 7060, 6265, 1170, 6654, 5003, 3561]</td>\n    </tr>\n    <tr>\n      <th>4</th>\n      <td>76272</td>\n      <td>[0, 0, 0, 0, 0, 0, 0, 0, 0, 1, 0, 0, 0, 0, 0, ...</td>\n      <td>0</td>\n      <td>[3484, 6324, 7594, 243]</td>\n    </tr>\n  </tbody>\n</table>\n</div>"
     },
     "execution_count": 6,
     "metadata": {},
     "output_type": "execute_result"
    }
   ],
   "source": [
    "df_recipes.drop('i', 1, inplace=True)\n",
    "df_recipes.drop('name_tokens', 1, inplace=True)\n",
    "df_recipes.drop('ingredient_tokens', 1, inplace=True)\n",
    "df_recipes.drop('steps_tokens', 1, inplace=True)\n",
    "\n",
    "df_recipes.head()"
   ]
  },
  {
   "cell_type": "code",
   "execution_count": 11,
   "metadata": {},
   "outputs": [
    {
     "name": "stderr",
     "output_type": "stream",
     "text": [
      "C:\\Users\\Alex\\AppData\\Local\\Temp/ipykernel_2672/713633471.py:4: FutureWarning: In a future version of pandas all arguments of DataFrame.drop except for the argument 'labels' will be keyword-only\n",
      "  df_recipes.drop('i', 1, inplace=True)\n",
      "C:\\Users\\Alex\\AppData\\Local\\Temp/ipykernel_2672/713633471.py:5: FutureWarning: In a future version of pandas all arguments of DataFrame.drop except for the argument 'labels' will be keyword-only\n",
      "  df_recipes.drop('name_tokens', 1, inplace=True)\n",
      "C:\\Users\\Alex\\AppData\\Local\\Temp/ipykernel_2672/713633471.py:6: FutureWarning: In a future version of pandas all arguments of DataFrame.drop except for the argument 'labels' will be keyword-only\n",
      "  df_recipes.drop('ingredient_tokens', 1, inplace=True)\n",
      "C:\\Users\\Alex\\AppData\\Local\\Temp/ipykernel_2672/713633471.py:7: FutureWarning: In a future version of pandas all arguments of DataFrame.drop except for the argument 'labels' will be keyword-only\n",
      "  df_recipes.drop('steps_tokens', 1, inplace=True)\n"
     ]
    },
    {
     "data": {
      "text/plain": "       id techniques  calorie_level ingredient_ids\n0  424415          0              0            389\n0  424415          0              0           7655\n0  424415          0              0           6270\n0  424415          0              0           1527\n0  424415          0              0           3406",
      "text/html": "<div>\n<style scoped>\n    .dataframe tbody tr th:only-of-type {\n        vertical-align: middle;\n    }\n\n    .dataframe tbody tr th {\n        vertical-align: top;\n    }\n\n    .dataframe thead th {\n        text-align: right;\n    }\n</style>\n<table border=\"1\" class=\"dataframe\">\n  <thead>\n    <tr style=\"text-align: right;\">\n      <th></th>\n      <th>id</th>\n      <th>techniques</th>\n      <th>calorie_level</th>\n      <th>ingredient_ids</th>\n    </tr>\n  </thead>\n  <tbody>\n    <tr>\n      <th>0</th>\n      <td>424415</td>\n      <td>0</td>\n      <td>0</td>\n      <td>389</td>\n    </tr>\n    <tr>\n      <th>0</th>\n      <td>424415</td>\n      <td>0</td>\n      <td>0</td>\n      <td>7655</td>\n    </tr>\n    <tr>\n      <th>0</th>\n      <td>424415</td>\n      <td>0</td>\n      <td>0</td>\n      <td>6270</td>\n    </tr>\n    <tr>\n      <th>0</th>\n      <td>424415</td>\n      <td>0</td>\n      <td>0</td>\n      <td>1527</td>\n    </tr>\n    <tr>\n      <th>0</th>\n      <td>424415</td>\n      <td>0</td>\n      <td>0</td>\n      <td>3406</td>\n    </tr>\n  </tbody>\n</table>\n</div>"
     },
     "execution_count": 11,
     "metadata": {},
     "output_type": "execute_result"
    }
   ],
   "source": [
    "# Copied from previous cells for debugging uses\n",
    "df_recipes = pd.read_csv('Data/PP_recipes.csv')\n",
    "\n",
    "df_recipes.drop('i', 1, inplace=True)\n",
    "df_recipes.drop('name_tokens', 1, inplace=True)\n",
    "df_recipes.drop('ingredient_tokens', 1, inplace=True)\n",
    "df_recipes.drop('steps_tokens', 1, inplace=True)\n",
    "#\n",
    "\n",
    "# Needed to make the explode function, source: https://stackoverflow.com/questions/63472664/pandas-explode-function-not-working-for-list-of-string-column\n",
    "df_recipes['techniques'] = df_recipes['techniques'].apply(literal_eval)\n",
    "df_recipes['ingredient_ids'] = df_recipes['ingredient_ids'].apply(literal_eval)\n",
    "\n",
    "df_recipes = df_recipes.explode('techniques')\n",
    "df_recipes = df_recipes.explode('ingredient_ids')\n",
    "df_recipes.head()"
   ]
  },
  {
   "cell_type": "markdown",
   "metadata": {},
   "source": [
    "TODO: use algorithm, verify results"
   ]
  },
  {
   "cell_type": "markdown",
   "metadata": {
    "pycharm": {
     "name": "#%% md\n"
    }
   },
   "source": [
    "## 1. Individual Recommendations"
   ]
  },
  {
   "cell_type": "code",
   "execution_count": null,
   "outputs": [],
   "source": [],
   "metadata": {
    "collapsed": false,
    "pycharm": {
     "name": "#%%\n"
    }
   }
  },
  {
   "cell_type": "markdown",
   "source": [
    "## 2. Group Recommendations"
   ],
   "metadata": {
    "collapsed": false,
    "pycharm": {
     "name": "#%% md\n"
    }
   }
  },
  {
   "cell_type": "code",
   "execution_count": 20,
   "outputs": [
    {
     "name": "stdout",
     "output_type": "stream",
     "text": [
      "[11332, 727, 13793, 580, 2056, 2820, 979, 14794, 3185, 3112]\n"
     ]
    }
   ],
   "source": [
    "users_ratings = df_users.groupby(['user']).count()  # count the ratings for each user\n",
    "selected = users_ratings['rating'] > 30  # keep only 30 + ratings\n",
    "selected_users = users_ratings.loc[selected]\n",
    "random_selected = selected_users.sample(n=10)\n",
    "\n",
    "select_column_df = random_selected.reset_index()[\n",
    "    'user']  # reset_index() create a new index, and the userId became a column. Then, we can filter using the column name\n",
    "group_users = list(\n",
    "    select_column_df)  # iloc select by index, since our dataframe only has one row we read it from the index 0\n",
    "print(group_users)"
   ],
   "metadata": {
    "collapsed": false,
    "pycharm": {
     "name": "#%%\n"
    }
   }
  },
  {
   "cell_type": "code",
   "execution_count": 21,
   "outputs": [
    {
     "name": "stdout",
     "output_type": "stream",
     "text": [
      "Total amount of recipes, 178265\n",
      "Recipes that have at least 20 ratings, 2456\n",
      "Recipes that have been rated by the currently selected group, 1269\n",
      "New recipes that the group didnt try yet, 2274\n"
     ]
    }
   ],
   "source": [
    "group_ratings = df_users.loc[df_users['user'].isin(group_users)]\n",
    "total_recipes = set(df_recipes.index.tolist())\n",
    "num_ratings_df = df_users.groupby(['item']).count()\n",
    "considered_recipes = set(num_ratings_df.loc[num_ratings_df['user'] >= 30].reset_index()['item'])\n",
    "\n",
    "group_seen_recipes = set(group_ratings['item'].tolist())\n",
    "group_unseen_recipes = considered_recipes - group_seen_recipes\n",
    "\n",
    "print('Total amount of recipes,', len(total_recipes))\n",
    "print('Recipes that have at least 20 ratings,', len(considered_recipes))\n",
    "print('Recipes that have been rated by the currently selected group,', len(group_seen_recipes))\n",
    "print('New recipes that the group didnt try yet,', len(group_unseen_recipes))"
   ],
   "metadata": {
    "collapsed": false,
    "pycharm": {
     "name": "#%%\n"
    }
   }
  },
  {
   "cell_type": "code",
   "execution_count": 27,
   "outputs": [
    {
     "name": "stdout",
     "output_type": "stream",
     "text": [
      "5555\n"
     ]
    },
    {
     "data": {
      "text/plain": "     user    item  predicted_rating\n0   11332  172034          4.929246\n5   11332  131089          5.124308\n7   11332  106520          4.996408\n10  11332   90144          4.889681\n12  11332  172070          4.846132\n15  11332  139315          4.008207\n18  11332   24634          5.230708\n19  11332  106555          4.959790\n25  11332   49228          4.962700\n29  11332   57427          4.859799",
      "text/html": "<div>\n<style scoped>\n    .dataframe tbody tr th:only-of-type {\n        vertical-align: middle;\n    }\n\n    .dataframe tbody tr th {\n        vertical-align: top;\n    }\n\n    .dataframe thead th {\n        text-align: right;\n    }\n</style>\n<table border=\"1\" class=\"dataframe\">\n  <thead>\n    <tr style=\"text-align: right;\">\n      <th></th>\n      <th>user</th>\n      <th>item</th>\n      <th>predicted_rating</th>\n    </tr>\n  </thead>\n  <tbody>\n    <tr>\n      <th>0</th>\n      <td>11332</td>\n      <td>172034</td>\n      <td>4.929246</td>\n    </tr>\n    <tr>\n      <th>5</th>\n      <td>11332</td>\n      <td>131089</td>\n      <td>5.124308</td>\n    </tr>\n    <tr>\n      <th>7</th>\n      <td>11332</td>\n      <td>106520</td>\n      <td>4.996408</td>\n    </tr>\n    <tr>\n      <th>10</th>\n      <td>11332</td>\n      <td>90144</td>\n      <td>4.889681</td>\n    </tr>\n    <tr>\n      <th>12</th>\n      <td>11332</td>\n      <td>172070</td>\n      <td>4.846132</td>\n    </tr>\n    <tr>\n      <th>15</th>\n      <td>11332</td>\n      <td>139315</td>\n      <td>4.008207</td>\n    </tr>\n    <tr>\n      <th>18</th>\n      <td>11332</td>\n      <td>24634</td>\n      <td>5.230708</td>\n    </tr>\n    <tr>\n      <th>19</th>\n      <td>11332</td>\n      <td>106555</td>\n      <td>4.959790</td>\n    </tr>\n    <tr>\n      <th>25</th>\n      <td>11332</td>\n      <td>49228</td>\n      <td>4.962700</td>\n    </tr>\n    <tr>\n      <th>29</th>\n      <td>11332</td>\n      <td>57427</td>\n      <td>4.859799</td>\n    </tr>\n  </tbody>\n</table>\n</div>"
     },
     "metadata": {},
     "output_type": "display_data"
    }
   ],
   "source": [
    "from IPython.core.display import display\n",
    "import itertools\n",
    "from lenskit.algorithms import Recommender\n",
    "from lenskit.algorithms.user_knn import UserUser\n",
    "\n",
    "user_user = UserUser(15, min_nbrs=3)  # Minimum (3) and maximum (12) number of neighbors to consider\n",
    "recsys = Recommender.adapt(user_user)\n",
    "recsys.fit(df_users)\n",
    "group_unseen_df = pd.DataFrame(list(itertools.product(group_users, group_unseen_recipes)), columns=['user', 'item'])\n",
    "group_unseen_df['predicted_rating'] = recsys.predict(group_unseen_df)\n",
    "group_unseen_df = group_unseen_df[\n",
    "    group_unseen_df['predicted_rating'].notna()]  # remove the recipes we couldn't get a prediction for\n",
    "display(group_unseen_df.head(10))"
   ],
   "metadata": {
    "collapsed": false,
    "pycharm": {
     "name": "#%%\n"
    }
   }
  },
  {
   "cell_type": "code",
   "execution_count": 28,
   "outputs": [
    {
     "data": {
      "text/plain": "     user    item  predicted_rating\n0   11332  172034          4.138234\n5   11332  131089          4.294742\n7   11332  106520          4.192121\n10  11332   90144          4.106489\n12  11332  172070          4.071547\n15  11332  139315          3.399237\n18  11332   24634          4.380113\n19  11332  106555          4.162741\n25  11332   49228          4.165076\n29  11332   57427          4.082513",
      "text/html": "<div>\n<style scoped>\n    .dataframe tbody tr th:only-of-type {\n        vertical-align: middle;\n    }\n\n    .dataframe tbody tr th {\n        vertical-align: top;\n    }\n\n    .dataframe thead th {\n        text-align: right;\n    }\n</style>\n<table border=\"1\" class=\"dataframe\">\n  <thead>\n    <tr style=\"text-align: right;\">\n      <th></th>\n      <th>user</th>\n      <th>item</th>\n      <th>predicted_rating</th>\n    </tr>\n  </thead>\n  <tbody>\n    <tr>\n      <th>0</th>\n      <td>11332</td>\n      <td>172034</td>\n      <td>4.138234</td>\n    </tr>\n    <tr>\n      <th>5</th>\n      <td>11332</td>\n      <td>131089</td>\n      <td>4.294742</td>\n    </tr>\n    <tr>\n      <th>7</th>\n      <td>11332</td>\n      <td>106520</td>\n      <td>4.192121</td>\n    </tr>\n    <tr>\n      <th>10</th>\n      <td>11332</td>\n      <td>90144</td>\n      <td>4.106489</td>\n    </tr>\n    <tr>\n      <th>12</th>\n      <td>11332</td>\n      <td>172070</td>\n      <td>4.071547</td>\n    </tr>\n    <tr>\n      <th>15</th>\n      <td>11332</td>\n      <td>139315</td>\n      <td>3.399237</td>\n    </tr>\n    <tr>\n      <th>18</th>\n      <td>11332</td>\n      <td>24634</td>\n      <td>4.380113</td>\n    </tr>\n    <tr>\n      <th>19</th>\n      <td>11332</td>\n      <td>106555</td>\n      <td>4.162741</td>\n    </tr>\n    <tr>\n      <th>25</th>\n      <td>11332</td>\n      <td>49228</td>\n      <td>4.165076</td>\n    </tr>\n    <tr>\n      <th>29</th>\n      <td>11332</td>\n      <td>57427</td>\n      <td>4.082513</td>\n    </tr>\n  </tbody>\n</table>\n</div>"
     },
     "metadata": {},
     "output_type": "display_data"
    }
   ],
   "source": [
    "#Min-Max normalization of predicted_ratings\n",
    "\n",
    "maxVal = group_unseen_df['predicted_rating'].max()\n",
    "minVal = group_unseen_df['predicted_rating'].min()\n",
    "group_unseen_df['predicted_rating'] = (group_unseen_df['predicted_rating'] - minVal) / (\n",
    "            maxVal - minVal)  # Normalized to 0 - 1 scale\n",
    "group_unseen_df['predicted_rating'] *= 5  # Normalized to 0 - 5 scale\n",
    "\n",
    "display(group_unseen_df.head(10))"
   ],
   "metadata": {
    "collapsed": false,
    "pycharm": {
     "name": "#%%\n"
    }
   }
  },
  {
   "cell_type": "markdown",
   "source": [
    "#### Least Misery strategy"
   ],
   "metadata": {
    "collapsed": false,
    "pycharm": {
     "name": "#%% md\n"
    }
   }
  },
  {
   "cell_type": "code",
   "execution_count": 29,
   "outputs": [
    {
     "data": {
      "text/plain": "     item  predicted_rating\n0   16605          4.755719\n1  145727          4.597558\n2   87426          4.595649\n3  158362          4.576481\n4   32845          4.575059\n5  124600          4.548992\n6   47092          4.523003\n7  168167          4.522965\n8   11831          4.513979\n9    7673          4.506383",
      "text/html": "<div>\n<style scoped>\n    .dataframe tbody tr th:only-of-type {\n        vertical-align: middle;\n    }\n\n    .dataframe tbody tr th {\n        vertical-align: top;\n    }\n\n    .dataframe thead th {\n        text-align: right;\n    }\n</style>\n<table border=\"1\" class=\"dataframe\">\n  <thead>\n    <tr style=\"text-align: right;\">\n      <th></th>\n      <th>item</th>\n      <th>predicted_rating</th>\n    </tr>\n  </thead>\n  <tbody>\n    <tr>\n      <th>0</th>\n      <td>16605</td>\n      <td>4.755719</td>\n    </tr>\n    <tr>\n      <th>1</th>\n      <td>145727</td>\n      <td>4.597558</td>\n    </tr>\n    <tr>\n      <th>2</th>\n      <td>87426</td>\n      <td>4.595649</td>\n    </tr>\n    <tr>\n      <th>3</th>\n      <td>158362</td>\n      <td>4.576481</td>\n    </tr>\n    <tr>\n      <th>4</th>\n      <td>32845</td>\n      <td>4.575059</td>\n    </tr>\n    <tr>\n      <th>5</th>\n      <td>124600</td>\n      <td>4.548992</td>\n    </tr>\n    <tr>\n      <th>6</th>\n      <td>47092</td>\n      <td>4.523003</td>\n    </tr>\n    <tr>\n      <th>7</th>\n      <td>168167</td>\n      <td>4.522965</td>\n    </tr>\n    <tr>\n      <th>8</th>\n      <td>11831</td>\n      <td>4.513979</td>\n    </tr>\n    <tr>\n      <th>9</th>\n      <td>7673</td>\n      <td>4.506383</td>\n    </tr>\n  </tbody>\n</table>\n</div>"
     },
     "metadata": {},
     "output_type": "display_data"
    }
   ],
   "source": [
    "least_misery_df = group_unseen_df.groupby('item').min()\n",
    "# TODO: Find name of recipe from the RAW data\n",
    "least_misery_df = least_misery_df.sort_values(by=\"predicted_rating\", ascending=False).reset_index()[\n",
    "    ['item', 'predicted_rating']]\n",
    "display(least_misery_df.head(10))"
   ],
   "metadata": {
    "collapsed": false,
    "pycharm": {
     "name": "#%%\n"
    }
   }
  },
  {
   "cell_type": "markdown",
   "source": [
    "#### Most Pleasure strategy"
   ],
   "metadata": {
    "collapsed": false,
    "pycharm": {
     "name": "#%% md\n"
    }
   }
  },
  {
   "cell_type": "code",
   "execution_count": 31,
   "outputs": [
    {
     "data": {
      "text/plain": "     item  predicted_rating\n0   54328          5.000000\n1   14944          4.968420\n2  147180          4.827768\n3  154511          4.825174\n4   87422          4.812041\n5  145359          4.810302\n6   24634          4.776238\n7   61969          4.758879\n8   16605          4.755719\n9  172997          4.751998",
      "text/html": "<div>\n<style scoped>\n    .dataframe tbody tr th:only-of-type {\n        vertical-align: middle;\n    }\n\n    .dataframe tbody tr th {\n        vertical-align: top;\n    }\n\n    .dataframe thead th {\n        text-align: right;\n    }\n</style>\n<table border=\"1\" class=\"dataframe\">\n  <thead>\n    <tr style=\"text-align: right;\">\n      <th></th>\n      <th>item</th>\n      <th>predicted_rating</th>\n    </tr>\n  </thead>\n  <tbody>\n    <tr>\n      <th>0</th>\n      <td>54328</td>\n      <td>5.000000</td>\n    </tr>\n    <tr>\n      <th>1</th>\n      <td>14944</td>\n      <td>4.968420</td>\n    </tr>\n    <tr>\n      <th>2</th>\n      <td>147180</td>\n      <td>4.827768</td>\n    </tr>\n    <tr>\n      <th>3</th>\n      <td>154511</td>\n      <td>4.825174</td>\n    </tr>\n    <tr>\n      <th>4</th>\n      <td>87422</td>\n      <td>4.812041</td>\n    </tr>\n    <tr>\n      <th>5</th>\n      <td>145359</td>\n      <td>4.810302</td>\n    </tr>\n    <tr>\n      <th>6</th>\n      <td>24634</td>\n      <td>4.776238</td>\n    </tr>\n    <tr>\n      <th>7</th>\n      <td>61969</td>\n      <td>4.758879</td>\n    </tr>\n    <tr>\n      <th>8</th>\n      <td>16605</td>\n      <td>4.755719</td>\n    </tr>\n    <tr>\n      <th>9</th>\n      <td>172997</td>\n      <td>4.751998</td>\n    </tr>\n  </tbody>\n</table>\n</div>"
     },
     "metadata": {},
     "output_type": "display_data"
    }
   ],
   "source": [
    "most_pleasure_df = group_unseen_df.groupby('item').max()\n",
    "# TODO: Find name of recipe from the RAW data\n",
    "most_pleasure_df = most_pleasure_df.sort_values(by=\"predicted_rating\", ascending=False).reset_index()[\n",
    "    ['item', 'predicted_rating']]\n",
    "display(most_pleasure_df.head(10))"
   ],
   "metadata": {
    "collapsed": false,
    "pycharm": {
     "name": "#%%\n"
    }
   }
  },
  {
   "cell_type": "markdown",
   "source": [
    "#### Approval Voting"
   ],
   "metadata": {
    "collapsed": false,
    "pycharm": {
     "name": "#%% md\n"
    }
   }
  },
  {
   "cell_type": "code",
   "execution_count": 36,
   "outputs": [
    {
     "name": "stderr",
     "output_type": "stream",
     "text": [
      "C:\\Users\\Alex\\AppData\\Local\\Temp/ipykernel_2672/1575198196.py:5: FutureWarning: In a future version of pandas all arguments of DataFrame.drop except for the argument 'labels' will be keyword-only\n",
      "  approval_df.drop('user', 1, inplace=True)\n"
     ]
    },
    {
     "data": {
      "text/plain": "        predicted_rating  voted\nitem                           \n30818           4.167167     10\n882             4.073797     10\n87422           4.072036     10\n113698          4.270755     10\n34275           3.932326      9\n28206           4.060360      9\n137287          4.085901      9\n136789          4.059695      9\n53194           4.093886      9\n136059          3.888527      9",
      "text/html": "<div>\n<style scoped>\n    .dataframe tbody tr th:only-of-type {\n        vertical-align: middle;\n    }\n\n    .dataframe tbody tr th {\n        vertical-align: top;\n    }\n\n    .dataframe thead th {\n        text-align: right;\n    }\n</style>\n<table border=\"1\" class=\"dataframe\">\n  <thead>\n    <tr style=\"text-align: right;\">\n      <th></th>\n      <th>predicted_rating</th>\n      <th>voted</th>\n    </tr>\n    <tr>\n      <th>item</th>\n      <th></th>\n      <th></th>\n    </tr>\n  </thead>\n  <tbody>\n    <tr>\n      <th>30818</th>\n      <td>4.167167</td>\n      <td>10</td>\n    </tr>\n    <tr>\n      <th>882</th>\n      <td>4.073797</td>\n      <td>10</td>\n    </tr>\n    <tr>\n      <th>87422</th>\n      <td>4.072036</td>\n      <td>10</td>\n    </tr>\n    <tr>\n      <th>113698</th>\n      <td>4.270755</td>\n      <td>10</td>\n    </tr>\n    <tr>\n      <th>34275</th>\n      <td>3.932326</td>\n      <td>9</td>\n    </tr>\n    <tr>\n      <th>28206</th>\n      <td>4.060360</td>\n      <td>9</td>\n    </tr>\n    <tr>\n      <th>137287</th>\n      <td>4.085901</td>\n      <td>9</td>\n    </tr>\n    <tr>\n      <th>136789</th>\n      <td>4.059695</td>\n      <td>9</td>\n    </tr>\n    <tr>\n      <th>53194</th>\n      <td>4.093886</td>\n      <td>9</td>\n    </tr>\n    <tr>\n      <th>136059</th>\n      <td>3.888527</td>\n      <td>9</td>\n    </tr>\n  </tbody>\n</table>\n</div>"
     },
     "metadata": {},
     "output_type": "display_data"
    }
   ],
   "source": [
    "group_unseen_temp_df = group_unseen_df.copy()\n",
    "group_unseen_temp_df['voted'] = group_unseen_temp_df['predicted_rating'].apply(lambda x: 1 if x > 3.5 else 0)\n",
    "approval_df = group_unseen_temp_df.groupby('item').sum()\n",
    "approval_df = approval_df.sort_values(by=\"voted\", ascending=False)\n",
    "approval_df.drop('user', 1, inplace=True)\n",
    "approval_df['predicted_rating'] /= len(random_selected) # Normalize rating\n",
    "display(approval_df.head(10))"
   ],
   "metadata": {
    "collapsed": false,
    "pycharm": {
     "name": "#%%\n"
    }
   }
  }
 ],
 "metadata": {
  "kernelspec": {
   "display_name": "Python 3",
   "language": "python",
   "name": "python3"
  },
  "language_info": {
   "codemirror_mode": {
    "name": "ipython",
    "version": 3
   },
   "file_extension": ".py",
   "mimetype": "text/x-python",
   "name": "python",
   "nbconvert_exporter": "python",
   "pygments_lexer": "ipython3",
   "version": "3.6.13"
  }
 },
 "nbformat": 4,
 "nbformat_minor": 4
}